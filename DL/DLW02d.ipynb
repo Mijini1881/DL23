{
  "nbformat": 4,
  "nbformat_minor": 0,
  "metadata": {
    "colab": {
      "provenance": [],
      "include_colab_link": true
    },
    "kernelspec": {
      "name": "python3",
      "display_name": "Python 3"
    },
    "language_info": {
      "name": "python"
    }
  },
  "cells": [
    {
      "cell_type": "markdown",
      "metadata": {
        "id": "view-in-github",
        "colab_type": "text"
      },
      "source": [
        "<a href=\"https://colab.research.google.com/github/Mijini1881/DL23/blob/main/DL/DLW02d.ipynb\" target=\"_parent\"><img src=\"https://colab.research.google.com/assets/colab-badge.svg\" alt=\"Open In Colab\"/></a>"
      ]
    },
    {
      "cell_type": "markdown",
      "source": [
        "---\n",
        "# 📗 Topic [2]: Coding basic #2\n",
        "---\n",
        "Keywords:\n",
        "\n",
        "+ variables\n",
        "+ **operators**\n",
        "+ **data types: list and dictionary**\n",
        "\n",
        "리스트를 만들고 싶으면 플러스 붙이기.\n",
        "줄을 긋고 싶으면 하이픈을 세 번 붙이기."
      ],
      "metadata": {
        "id": "k4A5_MYHpcNQ"
      }
    },
    {
      "cell_type": "markdown",
      "source": [
        "Your github IDs [here](https://docs.google.com/spreadsheets/d/17SX51lCqOdtvC7cAGoX5tP9fKwVdGY5sRzMg2pXh9uk/edit#gid=0) - revised 0327"
      ],
      "metadata": {
        "id": "mUVgzk50XMkt"
      }
    },
    {
      "cell_type": "markdown",
      "source": [
        "## [1] Variables"
      ],
      "metadata": {
        "id": "93gQaEo1RX63"
      }
    },
    {
      "cell_type": "markdown",
      "source": [
        "+ **A variable** is a named storage location that holds a value.\n",
        "+ Variables can be used **to store values** such as numbers, strings, lists, or other data types. \n",
        "+ The value of a variable can change throughout the execution of a program. \n",
        "+ To declare a variable in Python, you need to assign a value to it using the **equal (=) sign.**"
      ],
      "metadata": {
        "id": "jJT4hD1teuJr"
      }
    },
    {
      "cell_type": "code",
      "source": [
        "x = 10\n",
        "y = \"Hello, class!\"\n",
        "z = [1, 2, 3]"
      ],
      "metadata": {
        "id": "Xes87bY2X45M"
      },
      "execution_count": 4,
      "outputs": []
    },
    {
      "cell_type": "markdown",
      "source": [
        "↗️ In the above example, 'x' is assigned the value of 10, 'y' is assigned the value of \"Hello, World!\", and 'z' is assigned the value of [1, 2, 3]."
      ],
      "metadata": {
        "id": "ulw6QsP5ZiKp"
      }
    },
    {
      "cell_type": "code",
      "source": [
        "# We can assign a link or a function\n",
        "import pandas as pd\n",
        "url = \"https://github.com/MK316/Spring2023/raw/main/data/att_sample.csv\"\n",
        "data = pd.read_csv(url)\n",
        "data"
      ],
      "metadata": {
        "id": "_7bvpJt2aQmg",
        "outputId": "45a0222c-6e81-4de7-8d69-b88ad88eb122",
        "colab": {
          "base_uri": "https://localhost:8080/",
          "height": 488
        }
      },
      "execution_count": 5,
      "outputs": [
        {
          "output_type": "execute_result",
          "data": {
            "text/plain": [
              "      Names\n",
              "0      Mary\n",
              "1      John\n",
              "2       Tim\n",
              "3       Bob\n",
              "4     Sarah\n",
              "5      Kate\n",
              "6     Marie\n",
              "7   Johnson\n",
              "8      Mike\n",
              "9     Harry\n",
              "10      Jin\n",
              "11      Sam\n",
              "12     Paul\n",
              "13  Natalie"
            ],
            "text/html": [
              "\n",
              "  <div id=\"df-9738155f-0bb5-4d7a-9b74-057e79a1bdb1\">\n",
              "    <div class=\"colab-df-container\">\n",
              "      <div>\n",
              "<style scoped>\n",
              "    .dataframe tbody tr th:only-of-type {\n",
              "        vertical-align: middle;\n",
              "    }\n",
              "\n",
              "    .dataframe tbody tr th {\n",
              "        vertical-align: top;\n",
              "    }\n",
              "\n",
              "    .dataframe thead th {\n",
              "        text-align: right;\n",
              "    }\n",
              "</style>\n",
              "<table border=\"1\" class=\"dataframe\">\n",
              "  <thead>\n",
              "    <tr style=\"text-align: right;\">\n",
              "      <th></th>\n",
              "      <th>Names</th>\n",
              "    </tr>\n",
              "  </thead>\n",
              "  <tbody>\n",
              "    <tr>\n",
              "      <th>0</th>\n",
              "      <td>Mary</td>\n",
              "    </tr>\n",
              "    <tr>\n",
              "      <th>1</th>\n",
              "      <td>John</td>\n",
              "    </tr>\n",
              "    <tr>\n",
              "      <th>2</th>\n",
              "      <td>Tim</td>\n",
              "    </tr>\n",
              "    <tr>\n",
              "      <th>3</th>\n",
              "      <td>Bob</td>\n",
              "    </tr>\n",
              "    <tr>\n",
              "      <th>4</th>\n",
              "      <td>Sarah</td>\n",
              "    </tr>\n",
              "    <tr>\n",
              "      <th>5</th>\n",
              "      <td>Kate</td>\n",
              "    </tr>\n",
              "    <tr>\n",
              "      <th>6</th>\n",
              "      <td>Marie</td>\n",
              "    </tr>\n",
              "    <tr>\n",
              "      <th>7</th>\n",
              "      <td>Johnson</td>\n",
              "    </tr>\n",
              "    <tr>\n",
              "      <th>8</th>\n",
              "      <td>Mike</td>\n",
              "    </tr>\n",
              "    <tr>\n",
              "      <th>9</th>\n",
              "      <td>Harry</td>\n",
              "    </tr>\n",
              "    <tr>\n",
              "      <th>10</th>\n",
              "      <td>Jin</td>\n",
              "    </tr>\n",
              "    <tr>\n",
              "      <th>11</th>\n",
              "      <td>Sam</td>\n",
              "    </tr>\n",
              "    <tr>\n",
              "      <th>12</th>\n",
              "      <td>Paul</td>\n",
              "    </tr>\n",
              "    <tr>\n",
              "      <th>13</th>\n",
              "      <td>Natalie</td>\n",
              "    </tr>\n",
              "  </tbody>\n",
              "</table>\n",
              "</div>\n",
              "      <button class=\"colab-df-convert\" onclick=\"convertToInteractive('df-9738155f-0bb5-4d7a-9b74-057e79a1bdb1')\"\n",
              "              title=\"Convert this dataframe to an interactive table.\"\n",
              "              style=\"display:none;\">\n",
              "        \n",
              "  <svg xmlns=\"http://www.w3.org/2000/svg\" height=\"24px\"viewBox=\"0 0 24 24\"\n",
              "       width=\"24px\">\n",
              "    <path d=\"M0 0h24v24H0V0z\" fill=\"none\"/>\n",
              "    <path d=\"M18.56 5.44l.94 2.06.94-2.06 2.06-.94-2.06-.94-.94-2.06-.94 2.06-2.06.94zm-11 1L8.5 8.5l.94-2.06 2.06-.94-2.06-.94L8.5 2.5l-.94 2.06-2.06.94zm10 10l.94 2.06.94-2.06 2.06-.94-2.06-.94-.94-2.06-.94 2.06-2.06.94z\"/><path d=\"M17.41 7.96l-1.37-1.37c-.4-.4-.92-.59-1.43-.59-.52 0-1.04.2-1.43.59L10.3 9.45l-7.72 7.72c-.78.78-.78 2.05 0 2.83L4 21.41c.39.39.9.59 1.41.59.51 0 1.02-.2 1.41-.59l7.78-7.78 2.81-2.81c.8-.78.8-2.07 0-2.86zM5.41 20L4 18.59l7.72-7.72 1.47 1.35L5.41 20z\"/>\n",
              "  </svg>\n",
              "      </button>\n",
              "      \n",
              "  <style>\n",
              "    .colab-df-container {\n",
              "      display:flex;\n",
              "      flex-wrap:wrap;\n",
              "      gap: 12px;\n",
              "    }\n",
              "\n",
              "    .colab-df-convert {\n",
              "      background-color: #E8F0FE;\n",
              "      border: none;\n",
              "      border-radius: 50%;\n",
              "      cursor: pointer;\n",
              "      display: none;\n",
              "      fill: #1967D2;\n",
              "      height: 32px;\n",
              "      padding: 0 0 0 0;\n",
              "      width: 32px;\n",
              "    }\n",
              "\n",
              "    .colab-df-convert:hover {\n",
              "      background-color: #E2EBFA;\n",
              "      box-shadow: 0px 1px 2px rgba(60, 64, 67, 0.3), 0px 1px 3px 1px rgba(60, 64, 67, 0.15);\n",
              "      fill: #174EA6;\n",
              "    }\n",
              "\n",
              "    [theme=dark] .colab-df-convert {\n",
              "      background-color: #3B4455;\n",
              "      fill: #D2E3FC;\n",
              "    }\n",
              "\n",
              "    [theme=dark] .colab-df-convert:hover {\n",
              "      background-color: #434B5C;\n",
              "      box-shadow: 0px 1px 3px 1px rgba(0, 0, 0, 0.15);\n",
              "      filter: drop-shadow(0px 1px 2px rgba(0, 0, 0, 0.3));\n",
              "      fill: #FFFFFF;\n",
              "    }\n",
              "  </style>\n",
              "\n",
              "      <script>\n",
              "        const buttonEl =\n",
              "          document.querySelector('#df-9738155f-0bb5-4d7a-9b74-057e79a1bdb1 button.colab-df-convert');\n",
              "        buttonEl.style.display =\n",
              "          google.colab.kernel.accessAllowed ? 'block' : 'none';\n",
              "\n",
              "        async function convertToInteractive(key) {\n",
              "          const element = document.querySelector('#df-9738155f-0bb5-4d7a-9b74-057e79a1bdb1');\n",
              "          const dataTable =\n",
              "            await google.colab.kernel.invokeFunction('convertToInteractive',\n",
              "                                                     [key], {});\n",
              "          if (!dataTable) return;\n",
              "\n",
              "          const docLinkHtml = 'Like what you see? Visit the ' +\n",
              "            '<a target=\"_blank\" href=https://colab.research.google.com/notebooks/data_table.ipynb>data table notebook</a>'\n",
              "            + ' to learn more about interactive tables.';\n",
              "          element.innerHTML = '';\n",
              "          dataTable['output_type'] = 'display_data';\n",
              "          await google.colab.output.renderOutput(dataTable, element);\n",
              "          const docLink = document.createElement('div');\n",
              "          docLink.innerHTML = docLinkHtml;\n",
              "          element.appendChild(docLink);\n",
              "        }\n",
              "      </script>\n",
              "    </div>\n",
              "  </div>\n",
              "  "
            ]
          },
          "metadata": {},
          "execution_count": 5
        }
      ]
    },
    {
      "cell_type": "markdown",
      "source": [
        "## Commenting '#'\n",
        "\n",
        "- In Python, the # symbol is used to indicate comment lines. A comment is a line of text in a code that is ignored by the Python interpreter and is used to provide explanations or notes for the reader of the code.\n",
        "샵을 쓰면 인간의 언어로 쓰인다~샵을 붙이면 print에 있는 글들이 안나옴. print안쓰면 마지막만 결과를 보여줌. ctrl/ 를 누르면 맨 앞에 샵 지워줌.\n",
        "\n",
        "## Uncommenting shortcut: \n",
        "* \"Ctrl + /\" (Place the cursor on the code line and press the Control + / key.)"
      ],
      "metadata": {
        "id": "xZv9R8I8ZWvt"
      }
    },
    {
      "cell_type": "code",
      "source": [
        "# This is a comment in Python\n",
        "x = 10 # this is also a comment"
      ],
      "metadata": {
        "id": "7UJmbmmTaFx9"
      },
      "execution_count": 1,
      "outputs": []
    },
    {
      "cell_type": "code",
      "source": [
        "x1 = x * 10\n",
        "x2 = x + 5\n",
        "\n",
        "# print(x1) # Print the value of x1\n",
        "print(x1, x2) # Print the values of x1 and x2"
      ],
      "metadata": {
        "id": "Ivc72tB0X_TS",
        "outputId": "b85b874e-dbc9-4838-aafb-011043f381ad",
        "colab": {
          "base_uri": "https://localhost:8080/"
        }
      },
      "execution_count": 3,
      "outputs": [
        {
          "output_type": "stream",
          "name": "stdout",
          "text": [
            "100\n",
            "100 15\n"
          ]
        }
      ]
    },
    {
      "cell_type": "code",
      "source": [
        "print(y,z)\n",
        "\n",
        "y1 = y + \"Welcome to the class.\"\n",
        "z1 = z + [3,2,1]\n",
        " \n",
        "print(y1, z1)"
      ],
      "metadata": {
        "id": "cxePqv-52RU0",
        "outputId": "f616c4c5-4f8e-4bf4-9398-f517ab68f33e",
        "colab": {
          "base_uri": "https://localhost:8080/"
        }
      },
      "execution_count": 7,
      "outputs": [
        {
          "output_type": "stream",
          "name": "stdout",
          "text": [
            "Hello, class! [1, 2, 3]\n",
            "Hello, class!Welcome to the class. [1, 2, 3, 3, 2, 1]\n"
          ]
        }
      ]
    },
    {
      "cell_type": "markdown",
      "source": [
        "Input types:\n",
        "\n",
        "* integer: e.g., -3, 1, 0, 234, etc. 정수.\n",
        "* float: e.g., -3.0, 1.2, 0, 3.141592653589793238, etc. 소수점 들어가는 거.\n",
        "* string: (characters) \"1\", '0', \"3.29\", \"Mary\", \"euphoria\", 'My name is Jane.'\n",
        " string은 문자임. 따옴표 안에 들어간 건 문자.  밑에 결과 13은 문자임. 4는 숫자.\n",
        "\n",
        "_Note:_ double or single quotation marks denote **string** data. (Open and close should match.)"
      ],
      "metadata": {
        "id": "4zDbyBHbeQsq"
      }
    },
    {
      "cell_type": "code",
      "source": [
        "# DIY\n",
        "x = 1\n",
        "y = 3\n",
        "z = x + y\n",
        "print(z)\n",
        "\n",
        "x1 = \"1\"\n",
        "y1 = \"3\"\n",
        "z1 = x1 + y1\n",
        "print(z1)"
      ],
      "metadata": {
        "colab": {
          "base_uri": "https://localhost:8080/"
        },
        "id": "yzZuC29QfP3T",
        "outputId": "c5f30075-d1a2-4cc2-93f9-9852279c170b"
      },
      "execution_count": 8,
      "outputs": [
        {
          "output_type": "stream",
          "name": "stdout",
          "text": [
            "4\n",
            "13\n"
          ]
        }
      ]
    },
    {
      "cell_type": "code",
      "source": [
        "type(z)"
      ],
      "metadata": {
        "colab": {
          "base_uri": "https://localhost:8080/"
        },
        "id": "qwDb8cf5fkKi",
        "outputId": "bfc68699-ff37-40a5-c40d-16d20f806d0a"
      },
      "execution_count": 9,
      "outputs": [
        {
          "output_type": "execute_result",
          "data": {
            "text/plain": [
              "int"
            ]
          },
          "metadata": {},
          "execution_count": 9
        }
      ]
    },
    {
      "cell_type": "code",
      "source": [
        "type(z1)"
      ],
      "metadata": {
        "colab": {
          "base_uri": "https://localhost:8080/"
        },
        "id": "L7sxvSaOfsOt",
        "outputId": "894c2498-ee6f-4794-d853-3afcb51ff68b"
      },
      "execution_count": 10,
      "outputs": [
        {
          "output_type": "execute_result",
          "data": {
            "text/plain": [
              "str"
            ]
          },
          "metadata": {},
          "execution_count": 10
        }
      ]
    },
    {
      "cell_type": "code",
      "source": [
        "print(type(z), type(z1))"
      ],
      "metadata": {
        "colab": {
          "base_uri": "https://localhost:8080/"
        },
        "id": "bbFaL_GWfwMH",
        "outputId": "7f4e3965-e83a-4b24-9780-34d04e1a5305"
      },
      "execution_count": null,
      "outputs": [
        {
          "output_type": "stream",
          "name": "stdout",
          "text": [
            "<class 'int'> <class 'str'>\n"
          ]
        }
      ]
    },
    {
      "cell_type": "markdown",
      "source": [
        "## [2] Operators\n",
        "\n",
        "* Symbols that perform operations on values and variables. \n",
        "* They are used to perform arithmetic and logical operations, and they can also be used to manipulate and compare values. "
      ],
      "metadata": {
        "id": "5JgA2T2dRft5"
      }
    },
    {
      "cell_type": "markdown",
      "source": [
        "1. Arithmetic Operators: +, -, *, /, %, ** (for exponentiation)\n",
        "2. semicolon ';' - separate multiple statements (code lines) on a single line."
      ],
      "metadata": {
        "id": "NJBgu_O4bczL"
      }
    },
    {
      "cell_type": "code",
      "source": [
        "x = 2; y = 5\n",
        "\n",
        "a1 = x + y\n",
        "a2 = x - y\n",
        "a3 = x * y\n",
        "a4 = x / y\n",
        "a5 = x ** y"
      ],
      "metadata": {
        "id": "dXT3pIzobUHU"
      },
      "execution_count": 11,
      "outputs": []
    },
    {
      "cell_type": "code",
      "source": [
        "print(a1, a2, a3, a4, a5)"
      ],
      "metadata": {
        "colab": {
          "base_uri": "https://localhost:8080/"
        },
        "id": "_m3JBsOKd6Uv",
        "outputId": "97cd3c2c-8d5d-44d1-97e8-d3b00947fdec"
      },
      "execution_count": 12,
      "outputs": [
        {
          "output_type": "stream",
          "name": "stdout",
          "text": [
            "7 -3 10 0.4 32\n"
          ]
        }
      ]
    },
    {
      "cell_type": "code",
      "source": [
        "print(\"The value of a1:\", a1)"
      ],
      "metadata": {
        "colab": {
          "base_uri": "https://localhost:8080/"
        },
        "id": "5kq7I3nMd0Xi",
        "outputId": "2d807244-5fb6-4c34-f26d-5bbc46433d71"
      },
      "execution_count": 13,
      "outputs": [
        {
          "output_type": "stream",
          "name": "stdout",
          "text": [
            "The value of a1: 7\n"
          ]
        }
      ]
    },
    {
      "cell_type": "markdown",
      "source": [
        "# 🌱 Define a function\n",
        "\n",
        "Demo 🔢 Calculator"
      ],
      "metadata": {
        "id": "Cx1NyWUAybc8"
      }
    },
    {
      "cell_type": "code",
      "source": [
        "# This function adds two numbers\n",
        "def add(x, y):\n",
        "    return x + y\n",
        "\n",
        "# This function subtracts two numbers\n",
        "def subtract(x, y):\n",
        "    return x - y\n",
        "\n",
        "# This function multiplies two numbers\n",
        "def multiply(x, y):\n",
        "    return x * y\n",
        "\n",
        "# This function divides two numbers\n",
        "def divide(x, y):\n",
        "    return x / y\n"
      ],
      "metadata": {
        "id": "Dod3_zgYdsWe"
      },
      "execution_count": 14,
      "outputs": []
    },
    {
      "cell_type": "code",
      "source": [
        "# DIY: define a function names switch(x, y), where the input x, y changes its position in the output."
      ],
      "metadata": {
        "id": "W9CuAaqXgwb5"
      },
      "execution_count": 15,
      "outputs": []
    },
    {
      "cell_type": "code",
      "source": [
        "multiply(8000, 12)"
      ],
      "metadata": {
        "id": "rQyXInWyMrJm",
        "outputId": "fcc82944-6a5d-4f1e-e2e7-9f8471912b2b",
        "colab": {
          "base_uri": "https://localhost:8080/"
        }
      },
      "execution_count": 17,
      "outputs": [
        {
          "output_type": "execute_result",
          "data": {
            "text/plain": [
              "96000"
            ]
          },
          "metadata": {},
          "execution_count": 17
        }
      ]
    },
    {
      "cell_type": "code",
      "source": [
        "# Test\n",
        "\n",
        "add(2,3)\n",
        "subtract(3,2)\n",
        "multiply(2,3)\n",
        "divide(3,2)"
      ],
      "metadata": {
        "id": "IoHh-U2GBsqH",
        "outputId": "b40b06d6-7efb-4141-e0a0-689faa008762",
        "colab": {
          "base_uri": "https://localhost:8080/"
        }
      },
      "execution_count": 23,
      "outputs": [
        {
          "output_type": "execute_result",
          "data": {
            "text/plain": [
              "1.5"
            ]
          },
          "metadata": {},
          "execution_count": 23
        }
      ]
    },
    {
      "cell_type": "markdown",
      "source": [
        "## Using dropbox format"
      ],
      "metadata": {
        "id": "eOluPoNqCCE1"
      }
    },
    {
      "cell_type": "code",
      "source": [
        "\n",
        "!pip install gTTS\n",
        "from gtts import gTTS\n",
        "from IPython.display import Audio\n",
        "\n",
        "def tts(text):\n",
        "  gtts_object = gTTS(text,lang = \"en\", slow = True) \n",
        "  gtts_object.save(\"myaudio.mp3\")\n",
        "  return Audio(\"myaudio.mp3\")"
      ],
      "metadata": {
        "id": "iWdE6J8KN08G",
        "outputId": "339ee11d-25df-4f21-f51f-99ef8e4a6ec8",
        "colab": {
          "base_uri": "https://localhost:8080/"
        }
      },
      "execution_count": 28,
      "outputs": [
        {
          "output_type": "stream",
          "name": "stdout",
          "text": [
            "Looking in indexes: https://pypi.org/simple, https://us-python.pkg.dev/colab-wheels/public/simple/\n",
            "Requirement already satisfied: gTTS in /usr/local/lib/python3.9/dist-packages (2.3.1)\n",
            "Requirement already satisfied: click<8.2,>=7.1 in /usr/local/lib/python3.9/dist-packages (from gTTS) (8.1.3)\n",
            "Requirement already satisfied: requests<3,>=2.27 in /usr/local/lib/python3.9/dist-packages (from gTTS) (2.27.1)\n",
            "Requirement already satisfied: idna<4,>=2.5 in /usr/local/lib/python3.9/dist-packages (from requests<3,>=2.27->gTTS) (3.4)\n",
            "Requirement already satisfied: urllib3<1.27,>=1.21.1 in /usr/local/lib/python3.9/dist-packages (from requests<3,>=2.27->gTTS) (1.26.15)\n",
            "Requirement already satisfied: certifi>=2017.4.17 in /usr/local/lib/python3.9/dist-packages (from requests<3,>=2.27->gTTS) (2022.12.7)\n",
            "Requirement already satisfied: charset-normalizer~=2.0.0 in /usr/local/lib/python3.9/dist-packages (from requests<3,>=2.27->gTTS) (2.0.12)\n"
          ]
        }
      ]
    },
    {
      "cell_type": "code",
      "source": [
        "func = \"subtract\" #@param = [\"add\",\"subtract\",\"multiply\",\"divide\"]\n",
        "digits = input(\"Type two numbers: (e.g., 3,4)\")\n",
        "digitsplit = digits.split(',')\n",
        "d1 = int(digitsplit[0])\n",
        "d2 = int(digitsplit[1])\n",
        "\n",
        "if func == \"add\":\n",
        "  result = add(d1,d2)\n",
        "  text = \"The addition of %d and %d equals %d.\"%(d1,d2,result)\n",
        "elif func == \"subtract\":\n",
        "  result = subtract(d1,d2)\n",
        "  text = \"If you subtract %d from %d, you get %d.\"%(d2,d1,result)\n",
        "elif func == \"divide\":\n",
        "  result = divide(d1,d2)\n",
        "  text = \"When you divide %d by %d, you get %d.\"%(d1,d2,result)\n",
        "elif func == \"multiply\":\n",
        "  result = multiply(d1,d2)\n",
        "  text = \"%d multiplied by %d is %d.\"%(d1,d2,result)\n",
        "\n",
        "print(text)\n",
        "tts(text)\n",
        "Audio(\"myaudio.mp3\")"
      ],
      "metadata": {
        "cellView": "form",
        "id": "FT47bY6qBo3k",
        "outputId": "eba99d86-85b7-4bac-dfaa-dfaad7cb7eca",
        "colab": {
          "base_uri": "https://localhost:8080/",
          "height": 111
        }
      },
      "execution_count": 29,
      "outputs": [
        {
          "output_type": "stream",
          "name": "stdout",
          "text": [
            "Type two numbers: (e.g., 3,4)8,9\n",
            "If you subtract 9 from 8, you get -1.\n"
          ]
        },
        {
          "output_type": "execute_result",
          "data": {
            "text/plain": [
              "<IPython.lib.display.Audio object>"
            ],
            "text/html": [
              "\n",
              "                <audio  controls=\"controls\" >\n",
              "                    <source src=\"data:audio/mpeg;base64,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\" type=\"audio/mpeg\" />\n",
              "                    Your browser does not support the audio element.\n",
              "                </audio>\n",
              "              "
            ]
          },
          "metadata": {},
          "execution_count": 29
        }
      ]
    },
    {
      "cell_type": "markdown",
      "source": [
        "More operators: <br>\n",
        "* Comparison Operators: ==, !=, <, >, <=, >= <br>\n",
        "* Assignment Operators: =, +=, -=, *=, /=, %= <br>\n",
        "* Logical Operators: and, or, not <br>\n",
        "* Identity Operators: is, is not <br>\n",
        "* Membership Operators: in, not in "
      ],
      "metadata": {
        "id": "sfubu24UbqjH"
      }
    },
    {
      "cell_type": "markdown",
      "source": [
        "# 📗Topic [3] Data types: number, string, list and dictionary\n"
      ],
      "metadata": {
        "id": "3eSrUoglRh6-"
      }
    },
    {
      "cell_type": "markdown",
      "source": [
        "\n",
        "|Data type| |\n",
        "|:--:|:--:|\n",
        "|number|int, float|\n",
        "|string|charcter|\n",
        "|list|[1, 2,4], ['Mary','Tom','Jane'|\n",
        "|dictionary|(key: value), [('English': 80), ('Korean':90)]|\n",
        "|tuple|('zero', 0)|\n"
      ],
      "metadata": {
        "id": "ZVFb5JmJrPXu"
      }
    },
    {
      "cell_type": "code",
      "source": [
        "a1 = 3   # a1 is integer\n",
        "a2 = 3.0 # a2 is float\n",
        "a3 = \"3\" # a3 is string\n",
        "\n",
        "type(a1); type(a2); type(a3)\n",
        "# print(type(a1), type(a2), type(a3))"
      ],
      "metadata": {
        "colab": {
          "base_uri": "https://localhost:8080/"
        },
        "id": "g-kvldqENA1e",
        "outputId": "7ac463bc-4877-4e58-ed5d-d31a0c38b8c3"
      },
      "execution_count": null,
      "outputs": [
        {
          "output_type": "stream",
          "name": "stdout",
          "text": [
            "<class 'int'> <class 'float'> <class 'str'>\n"
          ]
        }
      ]
    },
    {
      "cell_type": "markdown",
      "source": [
        "list and index (0, 1, 2,...)"
      ],
      "metadata": {
        "id": "HC_wMsPnNbzs"
      }
    },
    {
      "cell_type": "code",
      "source": [
        "a = [1, \"Mary\", 4, \"John\"]  # This is a list.\n",
        "print(type(a))\n",
        "\n",
        "# a+a"
      ],
      "metadata": {
        "colab": {
          "base_uri": "https://localhost:8080/"
        },
        "id": "LyTw7phONZHE",
        "outputId": "646aed2f-2161-4b7d-81f7-ec47b90c8f0b"
      },
      "execution_count": null,
      "outputs": [
        {
          "output_type": "stream",
          "name": "stdout",
          "text": [
            "<class 'list'>\n"
          ]
        },
        {
          "output_type": "execute_result",
          "data": {
            "text/plain": [
              "[1, 'Mary', 4, 'John', 1, 'Mary', 4, 'John']"
            ]
          },
          "metadata": {},
          "execution_count": 4
        }
      ]
    },
    {
      "cell_type": "markdown",
      "source": [
        "* index: Python index starts from '0'\n",
        "\n",
        "e.g., a = [1, 2, 3, 4]"
      ],
      "metadata": {
        "id": "-fL-pJvj7NW8"
      }
    },
    {
      "cell_type": "code",
      "source": [
        "a[0]\n",
        "type(a[0])\n",
        "type(a[1])\n",
        "a[0] + a[2]\n",
        "a[0] + a[1] # int + str = error\n"
      ],
      "metadata": {
        "id": "9Z5zLDGc7X13",
        "outputId": "b8ddb954-dfd4-4643-c412-385797ad998c",
        "colab": {
          "base_uri": "https://localhost:8080/"
        }
      },
      "execution_count": null,
      "outputs": [
        {
          "output_type": "execute_result",
          "data": {
            "text/plain": [
              "1"
            ]
          },
          "metadata": {},
          "execution_count": 10
        }
      ]
    },
    {
      "cell_type": "markdown",
      "source": [
        "[Github accounts](https://raw.githubusercontent.com/MK316/Spring2023/main/DL/files/DL_github.csv)"
      ],
      "metadata": {
        "id": "S-KG49Zaim0S"
      }
    },
    {
      "cell_type": "markdown",
      "source": [
        "\n",
        "\n",
        "---\n",
        "# The End\n"
      ],
      "metadata": {
        "id": "3cZjH9xIiN4_"
      }
    }
  ]
}