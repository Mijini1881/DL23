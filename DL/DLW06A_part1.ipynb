{
  "nbformat": 4,
  "nbformat_minor": 0,
  "metadata": {
    "colab": {
      "provenance": [],
      "include_colab_link": true
    },
    "kernelspec": {
      "name": "python3",
      "display_name": "Python 3"
    },
    "language_info": {
      "name": "python"
    }
  },
  "cells": [
    {
      "cell_type": "markdown",
      "metadata": {
        "id": "view-in-github",
        "colab_type": "text"
      },
      "source": [
        "<a href=\"https://colab.research.google.com/github/Mijini1881/DL23/blob/main/DL/DLW06A_part1.ipynb\" target=\"_parent\"><img src=\"https://colab.research.google.com/assets/colab-badge.svg\" alt=\"Open In Colab\"/></a>"
      ]
    },
    {
      "cell_type": "markdown",
      "source": [
        "# 🌀**DLW06A Part I (4/12)** Coding and Language games\n",
        "\n",
        "셀은 두 가지 셀로 나뉘고, 텍스트 셀, 코드 셀로 나뉜다. 텍스트셀은 사람거, 코드셀은 컴퓨터만 인식 가능하다."
      ],
      "metadata": {
        "id": "_mbT_YJKGkm-"
      }
    },
    {
      "cell_type": "markdown",
      "source": [
        "# 💕 Goal: Creating an app similar to **_Word Guessing Game from Hints_**\n",
        "\n",
        "We will be spending 2 weeks to get this go."
      ],
      "metadata": {
        "id": "ppmHMRdisMiv"
      }
    },
    {
      "cell_type": "markdown",
      "source": [
        "##💦 **Demo 1: Making a word quiz.**"
      ],
      "metadata": {
        "id": "MWpQZGE5wZgt"
      }
    },
    {
      "cell_type": "code",
      "source": [
        "#@markdown Run this code to see guesiong game\n",
        "import random\n",
        "\n",
        "# Define a dictionary of words and their hints\n",
        "word_hints = {\n",
        "    \"suprasegmental\": [\n",
        "        \"This term is related to the features of speech that go beyond individual sounds.\",\n",
        "        \"It is often associated with intonation, stress, and timing.\",\n",
        "        \"Examples include pitch, tone, and stress patterns.\",\n",
        "        \"The answer begins with 's'.\"\n",
        "    ],\n",
        "    \"geminate\": [\n",
        "        \"This term is related to a specific type of consonant.\",\n",
        "        \"It refers to a consonant that is pronounced for a longer duration than its regular counterpart.\",\n",
        "        \"In some languages, it can be represented by doubling the consonant in writing.\",\n",
        "        \"The answer begins with 'g'.\"\n",
        "    ],\n",
        "    \"syllable\": [\n",
        "        \"This term is related to a unit of speech.\",\n",
        "        \"It is a sequence of speech sounds, typically consisting of a vowel and any surrounding consonants.\",\n",
        "        \"A word can have one or multiple of these units.\",\n",
        "        \"The answer begins with 's'.\"\n",
        "    ]\n",
        "}\n",
        "\n",
        "# Define guessing game\n",
        "\n",
        "def guessing_game(word_hints):\n",
        "    words = list(word_hints.keys())\n",
        "    random.shuffle(words)\n",
        "\n",
        "    for word in words:\n",
        "        print(\"\\nGuess the word based on the following hints:\")\n",
        "        hints = word_hints[word]\n",
        "        attempts = 0\n",
        "\n",
        "        while attempts < len(hints):\n",
        "            print(f\"Hint {attempts + 1}: {hints[attempts]}\")\n",
        "            guess = input(\"Your guess: \").strip().lower()\n",
        "\n",
        "            if guess == word.lower():\n",
        "                print(\"Congratulations! You guessed the correct word!\\n\")\n",
        "                break\n",
        "            else:\n",
        "                print(\"Incorrect. Try again with another hint.\\n\")\n",
        "                attempts += 1\n",
        "\n",
        "        if attempts == len(hints):\n",
        "            print(f\"Sorry, you've run out of hints. The correct word was: {word}\\n\")\n",
        "\n",
        "# Using this conditional structure is a common practice in Python to allow a script to be both executed as a standalone program and imported as a module in other scripts without immediately running the code within the script.\n",
        "if __name__ == \"__main__\":\n",
        "  guessing_game(word_hints)"
      ],
      "metadata": {
        "id": "68fDLUnZs8KF"
      },
      "execution_count": null,
      "outputs": []
    },
    {
      "cell_type": "markdown",
      "source": [
        "##💦**Demo 2: Convert a statement to a yes-no question**"
      ],
      "metadata": {
        "id": "DKwjeU8pW-iu"
      }
    },
    {
      "cell_type": "code",
      "source": [
        "#@markdown Install and import libraries\n",
        "%%capture\n",
        "!pip install gtts\n",
        "!pip install IPython\n",
        "from gtts import gTTS\n",
        "from IPython.display import Audio, display\n",
        "\n",
        "#@markdown etts(), ktts()\n",
        "def etts(text):\n",
        "  text_to_say = text\n",
        "\n",
        "  gtts_object = gTTS(text = text_to_say,\n",
        "                     lang = \"en\",\n",
        "                    slow = False)\n",
        "  \n",
        "  gtts_object.save(\"E-audio.mp3\")\n",
        "  return Audio(\"E-audio.mp3\")\n",
        "\n",
        "def ktts(text):\n",
        "  text_to_say = text\n",
        "\n",
        "  gtts_object = gTTS(text = text_to_say,\n",
        "                     lang = \"ko\",\n",
        "                    slow = False)\n",
        "  \n",
        "  gtts_object.save(\"K-audio.mp3\")\n",
        "  return Audio(\"K-audio.mp3\")"
      ],
      "metadata": {
        "cellView": "form",
        "id": "TajMEehr8_7D"
      },
      "execution_count": 2,
      "outputs": []
    },
    {
      "cell_type": "markdown",
      "source": [
        "---\n",
        "### Complete version with some restriction \n",
        "\n",
        "1. The statement you're entering must contain a be-verb.\n",
        "2. If you use a proper noun as a subject, restrict it to one of the followings: \n",
        "\n",
        "> **Male: Tom, Thomas, Bill**\n",
        "\n",
        "> **Female: Mary, Jane, Jessica**\n",
        "\n",
        "2. Must contain a punctuation(.)\n",
        "---"
      ],
      "metadata": {
        "id": "5XYJaX2IDrOu"
      }
    },
    {
      "cell_type": "code",
      "source": [
        "#@markdown Statment to a Yes-No question (Audio autoplay)\n",
        "sentence = input(\"Type a sentence containing a be verb: e.g., I am a students.\\n\")\n",
        "beverbs = [\"is\", \"was\", \"are\", \"were\"]\n",
        "pronouns = [\"I\",\"You\",\"He\",\"She\",\"They\",\"It\"]\n",
        "names = [\"Mary\", \"Jane\", \"Tom\",\"Thomas\",\"Jessica\", \"Bill\"]\n",
        "\n",
        "def check_word(list_A, list_B):\n",
        "    for a in list_A:\n",
        "        for b in list_B:\n",
        "            if b in a:\n",
        "                mword = a\n",
        "                return True, mword\n",
        "    return False, None\n",
        "\n",
        "\n",
        "cat1 = sentence.split()\n",
        "\n",
        "result = check_word(cat1,beverbs)\n",
        "\n",
        "if result[0] == True:\n",
        "  if cat1[0] in pronouns:\n",
        "      b = result[1]\n",
        "      be = \" \"+b+\" \"\n",
        "      ss = sentence.split(be)\n",
        "      subj = ss[0]\n",
        "      nsubj = subj[0].lower()+subj[1:]\n",
        "      pred = ss[1]\n",
        "      w1 = b[0].upper() + b[1:] # Capitalized be verb\n",
        "      newsent = w1 + \" \" + nsubj + \" \" + pred[:-1] + \"?\"\n",
        "      mytext = \"I'll make it to a yes-no question: \" + newsent\n",
        "      print(\"Yes-no question: \", newsent)\n",
        "  elif cat1[0] not in pronouns and cat1[0] in names:\n",
        "        b = result[1]\n",
        "        be = \" \"+b+\" \"\n",
        "        ss = sentence.split(be)\n",
        "        subj = ss[0]\n",
        "        pred = ss[1]\n",
        "        w1 = b[0].upper() + b[1:] # Capitalized be verb\n",
        "        newsent = w1 + \" \" + subj + \" \" + pred[:-1] + \"?\"\n",
        "        mytext = \"I'll make it to a yes-no question: \" + newsent\n",
        "        print(\"Yes-no question: \", newsent)\n",
        "  elif cat1[0] not in pronouns and cat1[0] not in names:\n",
        "        b = result[1]\n",
        "        be = \" \"+b+\" \"\n",
        "        ss = sentence.split(be)\n",
        "        subj = ss[0]\n",
        "        nsubj = subj[0].lower()+subj[1:]\n",
        "        pred = ss[1]\n",
        "        w1 = b[0].upper() + b[1:] # Capitalized be verb\n",
        "        newsent = w1 + \" \" + nsubj + \" \" + pred[:-1] + \"?\"\n",
        "        mytext = \"I'll make it to a yes-no question: \" + newsent\n",
        "        print(\"Yes-no question: \", newsent)\n",
        "\n",
        "else:\n",
        "    mytext = \"The sentence you\\' provided does not contain a 'Be' verb. Try again.\"\n",
        "    print(\"Type a sentence that contains a be verb.\")\n",
        "\n",
        "etts(mytext)\n",
        "Audio(\"E-audio.mp3\",autoplay=True)"
      ],
      "metadata": {
        "cellView": "form",
        "id": "ZjPSWFub-55P",
        "outputId": "15ee8c48-40c6-4011-b414-8d1169ef3e9b",
        "colab": {
          "base_uri": "https://localhost:8080/",
          "height": 129
        }
      },
      "execution_count": 4,
      "outputs": [
        {
          "output_type": "stream",
          "name": "stdout",
          "text": [
            "Type a sentence containing a be verb: e.g., I am a students.\n",
            "One of my best friends is coming to my town.\n",
            "Yes-no question:  Is one of my best friends coming to my town?\n"
          ]
        },
        {
          "output_type": "execute_result",
          "data": {
            "text/plain": [
              "<IPython.lib.display.Audio object>"
            ],
            "text/html": [
              "\n",
              "                <audio  controls=\"controls\" autoplay=\"autoplay\">\n",
              "                    <source src=\"data:audio/mpeg;base64,//NExAAR2IHQAU8YAFBU5yDi5kLOtn3Dfv36vV7O/fvHlKfN7vwAAAABAQLggCAIAg7BAEAfB8/BMHwfB9+JwfBwEMuCAIBjiAEPlwfP//dygIfy6v+H8i2wIF/8jalh//NExAsVSl6MAZiQAc1/8bthA1GedGXJ8CYA3MFc9AmyfQDG46Q9APn/oISBl8iiDfp/N3dmb+ghQQZy+Q8zJguHjf/6afoG5saulRl////8zMy4pj74VXpI9GRxvKxd//NExAgTOUbAAY+IACHB4Pk30Wzqcrm4l4k4uQiIjQWUKTDphygexKBByJm4egKIMwXxfkcWSKvvSU+62Q/fZ7OvqXbvNGMlNITpUG2vzq/+LrVvG4mWLgdl9aZYANm5//NExA4VwUqoAdiYAFLuqdDR5VGqULfSvdOPspQGAPbLhKIjkAT4BYxQZMoBswo5EUS6QEvMtFFHSSPdn6n60Oig2ktNKmaKex6imGIZH3UltyilZ2idt8twIJ8SGMQl//NExAoToZ6kAM5ElOMH9Q/W+6YozeT1ZP0B8ol1JiVEPTaPv6BYtSJNyLCtEm85+5TJv/8rWGhialfVn/76OjUKwG6MQ7zU3UioYUJ+V/LB2rVLWg0sFjBJ4kovLWNn//NExA4V4aqYANaElHBqUc/LlsiBq7skf90jF1jnh4zDD0gE8ctChY3zsJbAERe7y2+0g5/yqf//3Sv18r+vv6/bqEsRwT7SI8oSyQTlBylvSQp2vLk6h29fnFngvcx5//NExAkTcZqUANaElCooZAdOw8kPwdDYMUlAuHJRAIJJBNp+4BnWsiBw8ly1mytze87EIT//2m//1c9fX/1/9/O1HCeh/DsRLOsz0tsrPPVpqqakuvQO5mM9ZdN9wASH//NExA4SWKqQAM7wTECqmbDVmAyESJg6kv3C1BloFQ50KBR4jCrOWSfM7vtZ+7P/ubOxDnYhdZ/xCYInKD0MgyJW/9koqtyi1Yd3YgcwADPETAccoxlrjO7jugR6+NAH//NExBcR4KqIAN6eTDmUsgWtA1d4AaGQvQl9xPgeaIW2U7hJkIeucidf3/ggd5A1awiyd9HnnBU6stNj3KWIyGecEdBRmeciQzX24xcYYTACfazIvguoMePZXGE5Y75r//NExCISIY6AAOPKlEPcc5mGyAia8bsXxqri7+NmD77BF6soEZf4gJsbb//rqQTEAp/+lZXQyp9UQjMWCLiL2nIdMEnA2yJSxKmeEMJYxjbE/3/pcY36p0JDNmepm0+///NExCwReSaAAOPecNij/+rnf/LqPr0fOFPmGr9z6fQtf+UOB0jUlvbEbcAza8HUGVwE0MCJDIaj+SaTGqsEMEmr3cKmGG885f//pJHKWF7QJvIIiADBJC5pIFzFHECC//NExDkSUR6gANZScBbXR7kYJt0ABp93n3KMF4Yqx//riKacF/d2CDOgArYIAGaDihSmfVUbHutBNP/LYe45OpdbVlpdUMkpGTveZegYnuwueyVt9QknpwpX7Gjx6ku4//NExEIQAT64AMUScK6BhIbGkkPsnA24KkNjRzEgQuYqu1I2NzN/2H/+f/3XrK+3ilMwERGFDz2dlaWTqvNyFVyS6QgACxrfuC6Qwn//////6d//7mqcrzL92KWWBcAs//NExFURwUa4AJTScPIvxGB0EjanCMa/qf+3+8n9pZ5CaQGFmgqSBtRBBpFN6BRJJFNhdnASEgPehtYyz/3f///+zG0w6zAWsADwLeUTNkS8FtFA3fWzl1+oyLyP//1f//NExGERKU60AMHSlP/Uc//8Yxn7VQhUSjxO9UhQhUgI9ulkRUUEbeiICioXhUV2DamsN/9X//6mav9KvY912SJogWw7VF0wm0YKQHAChEMuz2EYSn+c////SMTVHUmP//NExG8SqUawAJNScFJo5TyWaEIJKJUXqRiVFIepqVkQ1kSWwFXCEBCX////iLu/5GoiIX9Ryt9XGULMTEmgvONVbk2d3ZVXw53HH//no/+rTa//ZmVpqKc9SIqB0SYq//NExHcSEUaUAMnacA5MD15ICuHnTskVWGs65Kh76JWs7ESxj+n/9K5WQQnKj9Ujh4sRRgGH+9jEVDdOFrHmU19NSCgVweh0aPtZNMOYJQXR4El+S6jQuM4BuBPBMQKO//NExIEScS5cAVk4AAM8RdfzM3d0DQ0ClBtgpYAXjKFqJh/1um90KALYF4cTwcgtymiPTr/9adNSCHJVIslMwTHuOQoSz//3pq1e/oH2PrN0zQe6ZgPcpvWT5WO14+IS//NExIogmyp8AY9oAJzmTHMZS7cblM7SUm8N1Ms88942ZImrlKUkUYq37VjFZp/uLKtvmmrFlC0kbTFjCqrEVZxYIiURACCQJClYVGixNbMixMtbXuO73TSTzwOI/Klc//NExFoeCe6YAdhIAbjK/8VlcL6RN/tubJKaRe4F87zcuX7+imubbJsIy6qaxxx1XdA2IDdKXbKYrPWmqBq/UoNHOfQgGj+pOx3nq3+Xw2Ox4AEDUdTFD+xVKUfQJBGP//NExDQT0bqoAMqWlJbDrl7Lb+9sTXEVxP3stqtMT////46lne3DhmqPr+kMJYBTgQJ45wZwSZktSA7Fq6BIEi3y9H/99f++L9jDETElrWG65YO49qMo0PmtNfBx4dqv//NExDcR2UawAHtWcLGcNMKCx4CAnb9H////0lE1sV7eplDMK6FlY6ksDhxACIhckqvmBDx2+Zm5qrzDf8s3/xeroUwdHDUGiQRpWYmDoZWJDoMgtEVRQSo/1SM8Crl///NExEIR8UKoAMTQcP////7IaVLXAg9sSG52diFYrCfeZg0wBQbAGImJ2FifUfQ3G1aWg3pv58vLrm6A2FBQgCyo5nmZLPpKgEBOFIBUHv+RiYSkQ0oWHbLIpevAKhnR//NExE0QmT50AMvEcLi1kKcFu0WfqHs8/r6sXPFhPvTfEcc4qQCw0+BPupLj4fyn2ZzlywYlLDQyIAxudp5/U5p/31VSVUADGk1jji4Dz/ad/tCgT4O/5ybzQ61b/6et//NExF0QKFJcAVkYAMIvOHU//4pNtsk6gRpv//hp9pvS4+gLg22jxL/9n3R+bz8vTKh2Fg3k4N1Cea////uOOp82yKfJefHQS1y5Z6hpIeP//uv/3Minzshr/Z4JAgCe//NExG8fCyqMAYtYAHiwUADB8H8EgfJA+CeqP6CEjNXv/////3t0RU28iyMcwAIUWep6/VWbbZz0xEzopmdbJc8xN1KEOGpc2E7MM018uWtsXYO1UsBTV6SxCoFFM8Jq//NExEUREh64AcEQAUX6Ycci+v0+n/9XYz8gRwrwoe7jKOiyWQTDDGGCxmPSlLrWbczEnLOYDMIllY0pphgJnTAchIAOJXm3+sUqvQyJXD3dNtWJX+O2KGHBECqJByIl//NExFMReeasABCKmN95gGCFFd2mGFrJn6fjt2v5rdjG8iAIkkOk9REt2bqppMblpao8VdyOhJ4YecAZ4q4FkLcNPXK8qrGeTRUPDYzQ6KlWqYRgitIE0gg2GwbbjiMn//NExGARaSqcAMqMcBqdAgGEiEBAIFB4nZwRgwCYoQJFxU56JtNybNLe/4VJljWOo5lXrX/tMFAip+pVm61eCDBDYHHStrdEnjFp4zsgDh46VMGAeWK2LS9DsBsLuOXw//NExG0SKRqUANJScHoAjklZdRgFgKQXxjnOc6ms+3vqh1DtZ0oXHf9Ec00Sp8M4wYqXJ4OOwAvUYBQgICbMo8ZjALkp6z6A01+MtsTAIaSEqkEMJSIUSB02Hh4UUAAI//NExHcRARqUANvUcK6EbdXqc+1tbPIU5GUdv/dJod/Mquf9sLId6qLhOyEc6YaSCxxLGkzWQ/WPzTNIvZqPGtlMVdLkwWyAD4gaA8EBEEgAQWNv2+Zt3527Mz8U4sXf//NExIYRyR6QAN5KcPSB3nJp3djy43/qz7qSlnp/WCAcaGjMSYQP+slhQRvbr0g5bzCQnf67e6/Wnrjk/lKdLi/XUKtwHAaCRhXUxiATDTFIswKgmktXfMTRu/9U5H/3//NExJESQRqgANZYcFOk32GBp2zp0x22QXI6GCwG8nFmAhK9Q+j9Zwt9D878VrxVfQmmGAaJlMAYCm1YFquHYfINMcKNaD8Tvqi1blmVEv8d/MK1ldVmLp5aaOCJHUrc//NExJsSOYqwAMvUlAEfDYTiykTzKOGusvPmbdb/Uf/Lf9z7Ut6RWCJQ2rqMSC86TFKFOVPTmpIoGxznnx0fKjDZ76VOqoj2w7ZWnk9cUAHCJrXr1hUJI+Qj4bqI5v6+//NExKURKTKwAMzQcP3+8/qP9EUYaCwcMZVqbF0YqoUNdNA5enUWUg0sFQqEZJnxUFf2Xu//6/2JbhXkhAVMAegGcGRA3CUShUpbo0C+YSAvoJXH22bt19+38fz9Z8FF//NExLMRcTqsAMzScAbMthq8VXzVzysmOGXiWnqfVTXhSJ/nvxsmr///ooqezjagB8CKvL7AzjGxgDQZ4EQj4iAzVDr4C9H79f//XqOFiiCEqi33XnGXNRz1HijxFfHZ//NExMARgVqkANCSlKeaee7jp71X/5v9PfQckyJT///okOHG5AMW89h+xB2BUcSB8bINDJAdhwHSgOmIC+MITIfTyPsZ//JQWXAhhu02UJZ+6Zv6TfDDQ5eaMqEX8U6K//NExM0RYaaUANHQlNp97GH3i5DC7evRTMlXf///qqPuoDASJLpl9DAzw74oEh+xEhGDGMASNfNQMwpN9dGnG9lxE1hia4/8kPeITe/v7MbPveZK7josuareGSEjLecy//NExNoSAi6MANFOmLYWZ5HdY8aK+mvt8yXc5I8DG8vIOfelc+lYcutuhNNBHjrQspnqT//7vWhfRaX90AhklxXfRpZTpAybooMEM4vF8o8yWgosokzuj/Uafix+TdSm//NExOUUMZ6YANFWlCzkrNZq1Mkf4Q9RucE7R/oQwo0sSMqoYkZpvZib6TS1cH6gcNiE0MHW0mSyix5bPu/////6Kv/9qJJYUmqQUOEgk280tQzEY+s3IDDaff+s40gq//NExOcbaZ6cANvelHK0Rl/ZaM+pVksk9+XhUAxQ2BkGQ6OLbmL3cuhzq1o3erNF/WXXDJs3srRpNP/r9Srn/x4gMuRXMYyVav3PnQLomu7OYioEgjNdhHpOD43AVfzC//NExMwXASqsAMYecHRm/7TwTFhiyoJThx3srTKrXbrCTSoCLg0Dk2g5an+SDn/0Ve/+ErAGoHiuVoRRJAN5UxbsEGoqKmmYZWrT56l0dlm9/uBD34Khbnt4Q+jzV9Nw//NExMMTSTK4AMYYcGDVQoagriWWDigaCqpLZ/kD1/arSosf3YAbRlQ/GE9AgmLWk7C8GM8EKdi0FJWUBfoZ5QrL1/Kv/++Q1L//dP//4mK+H+bSYZaRPSp/q6e6p03+//NExMgRSPK4AMPYcCblWV7MyK5S5inqpYj7pEdTxxxnQ52AQDQjl4uDgih+D4Lw/BwGgQCgihhtAGFn5q//9f/6lf+b7//s5X/P//3z/9/Hsrbz9L187vi53UyP03Wc//NExNUQ6M6sAMYecFONr7uXNqET6Z04ig9Zznw0vUpljwconm5LG8lg0IEEk6PAgA+Y+gjJ2Uh4H0mGIbj3dX////6///////+f////t9V7r2/tXRbNaxkx3RjpqNPZ//NExOQZ4x6kAHiQvZhehcfVEHznPMG5YaDQkPCOKheCwgg4Kg4HATg/KkCA+UEY5Cpf///////F////2Rf/+v29+36oqv3qjnRUayKRXc5LColJIUgugcF5GOw86ERE//NExM8W2yKgAChWvDAOKlDwcAUNExQEYIh8DC4MUrCIkLBw4YSiD///9n///i/P///lm////rfSn6p6Zveztj7IquphzmpNImmlrqYPo89jUORXc5yxIuRCU0oOIhId//NExMYRGxqwAAhOvWcqRdys4eFz1RVGQoGwLCh5GZJ1M3/7L///57zOHUy3/+hjG6///R1mfqxWe3VnLNlaIlEnYyOJB5xEOjAM7B4WUyiQeKgsUYLSowDCzqyTIZSi//NExNQR8xq0AAhKvaWUgdGHDodAEOgKK5WDwsiVbukyvJX5k9abKgCoKYMEjhAcnYmakyH4HkSIA4Lqu0RYt7Pf5vbP0/tTIGmRABUlMaZJd3Njdw0hJD/PkOGACEJk//NExN8QSxa0AAhOuJ3/1P7Kmytrv5pf/6F5alCSBBwSYl25Cc5mEIbITBgG1ZPcFA0OsVgDwAVDGnYzLgfwJI229mQnWvfNJYz2tdxqynF8TFxcVVhMY5xMpkEC9VRA//NExPAWoxKgAEhKuKFA1qOyqi/f/+wwe77UNWqlymUPjPR/B4R0GMGhjPAExMALimHKBuBQrmSCoQ0dLKGZls4VnprFFautwbNZwm4fwuWXfs1YaSEf2RQewxYhhVsS//NExOgTsTqAANvGcNu1xLfOrGB5T1h5Ppz++JAPk+9VjllvrMrL+3+l75ixjpfxx9SAkjk2M/////g+tdWpzBBsImi1LAY2NLI0WAz3DNoGcYg4TiYWMNssVtnI5+9E//NExOwVWbaEANvKlHxcKRG6qSg/VlUCfjeV09GJOstkaTVOdLU2o4or/jbMEAYJoUefGMo/IXnnDfLNmm8WZ/VVX/////qV3vAlm62M4OpFlSl/CXouY4vKAaGzxW2X//NExOkcyZKUAN4YlMqPGs2fL3jXtftvBBM0AfY8o1nype62xRf3m/mFb+BG+YXt4Eb5hMNLNVWB6JYlpiQ8R/6VlHfIXs/ckBC5IjcrayY3qAxtJYRARivVywbm7OmQ//NExMgXEYKoAMvSlDNrsZEAVi2LemLEP0Xj4fSEzueys10mzqOk2ZmulzM1aTDWl/j+60d2bip3bEBkjqsZ8qpjB+VmrwluDeLddreS4v8nHlTA4pM+TSQQyfh3B0Z9//NExL4TISqoAMZecPLfnZWmi5v/KefuU3tfj/7qtl41sVXVsO1gFWnfp34ekDv63f////Wj0rpnDypVm2ngIKXZIDxvWRMOVVAqoce2ByeXZooq+0Po3GFhiMUCMbMQ//NExMQSCSqYANaacVXrOlblixie12lwypgF+Ilnu3iX/4dCZ1eW/////9XVM4wc1kyXwWSB0igxyRhQCoiNAQ5lz9SZ9qaqRQHQhARFjfIZohzSYYFFubFDCVEXr2vR//NExM4UoXaIAN4KlF6ijLWlDgrNhYOrVut////9cih9CgBSS/dmLSgOBrJ4SQfZNx8DgSIX4mZ4nWZgAkC4G+eZKC8HIoIivZ8PKv2TN/r/e9f2rr///////86EZXA3//NExM4R+JJ0ANbwTNMd/////gR1EMCeTYak772t8vRkTOV7pbA4K/AAoNGzhfLNS4yb5FQjcFFCDLKA6YXkBmq5VjXK/VVmzqWZbDsooqCZtWeU9XWVTf6uV7GG9V9Y//NExNkR2HpMAMYSSGGqfCk5+H4VLe69vWGGGmUeiTBdkegpMLdjdQwIIwKh0VJSjBNajx/rcRXzf/P////8/8J//xULckUOukl1ZUeSjD0KNEQP84UYVEZYNTuVcCyt//NExOQSMbZoAHvElJI8NeypS9lYL7DM0H0+Qo/0ML6wgsQXh0BQEJOJ68bGtrgsjfSHSEzwPiuotMwIPZ9R8Zhz2rA9Idr/GJOYNOEgOhWm4eg00kRDMLghCwnq/6f///NExO4lWxpwAMYQvXJ5JZxk+BAoFa0sccPWTfAH8E1EyrmI5ilOwtDSJoTZgcOJyN1dcsCX6zGPJcqMMe08UVgPJx/l9NB9JIYalVSUYUFSWWt1q12VRGxTTlBYuWJd//NExKsYcSqIAU94AFMMr+H34plNWLVTLLVNn39ax5/d4ZarXM8M7ev7dpaXXbLTQCBQicSeMn3AKeShxXsoLnUDyxzjZe36hQDqQUMyTGJC0uy8zoPL+mJEQwWC5aYa//NExJwhmbp8AY/AADprhOZIII0GauqlBiE2Pc5rkmaabopmHCnJF+A7QpmG3BBG7V4vu2KvGziuQoae/n4c5/bdfd+3Irtut/Pz73e7c3nyvhDDpwfc3v//fO5/+f5W//NExGghed6MAZvIAPWu2KlSx//+v/+38+bt6576WMtcqVJx////7fkP14ApqztFVUpCluK2mtDNmlUyCCYzIMOESygIlMGJKyqIuCgqhE07C8bXGQYKqvJYEHCOCErG//NExDUeeeqcAdrAAV7xaZQ8krnJfl9WgjHPzlkst6mc885iG69Tj4wA/ks/tjvcse8/+55/reeeeFjDmFucsUmF7PPPX9/f///lre+8r28z9n1h/g2hAwJgCFHAdymU//NExA4UoR64AI4ecBCXQg61EgSxKt57HHifeX3Yi5Mqlm06W1EI9mN4XISUK9Vvp4ysiZralPClj5g4h3gvntomNTbCKfsxRomINc/45TTpquc/GCkE8n3ZeEEHT7y+//NExA4SmSa4AMYecGWQg5EI5HEqiZzyb+s3KR7+zVnP9PUU4UYl9QC5qPUVOqzOfaDXea6n8GDGreSNGg4iXFgs5P9Fp6Mv8pXf/8cBHH/vZZNzMpDa7+YU8DgrH0cM//NExBYSSS6sAMPecNA0UtrTcaKcf7zIrpcYoiltw3CTI4TlWppFczVx8Rt69a1/9YusVrjNoy1mTH/lQ1te5SqvTI9AaHbcqEoETW9dZoJvM7Myob/Sn1L//N//V7////NExB8QQuqwAGCEuf67f+3kT/vI1/Pq7efOd1dSE03kbtU555GUWZgMyC/Q/Q8T5P//+f////8v///////TPtcqta7bssiJze5Z3cwulFQrvOLsZBRIiZiuRyCgiHxo//NExDERKx6wAAhKvOYzCYfMCDRofExUUUUCQdBwgwg1////7//nj+p+6Tjl4mzKl7fpxrue1aVC6rVMOH0j0jwNOx6z1NLQ44RJkMiAKHSH40o8aMs+RYYIQgiUw2xQ//NExD8QGxqwAAAQvWKKB///////r////7P39+Vj5ULIiL25l8uv7nTt+omyjFmwuXrWqqWdJxy8PQs0lqMyckcSx5I8SQJ07mFzJX7EkpRCuxKaBYn//////////n/8//NExFERIx6oABAMvP//2Pnxel6lssP81Lq/agpnKqjLnROR4UT1WhEv9ywxr2GzQUtKr3Tqk3AxhTVBUMwIexRURLUBRD///+///PuX/gVH/XQjSsibi7u80FSkIJqH//NExF8QmvqIADhGuRjIIUQDYDDABBxQRAhqZkVhH9Iqb4edc/EcSZcvn3+5nT/Qi3Lkd8nFvahSRBkVEr///////+/+3//7Pvu/nMxyu0J/b+LBHMCIMIECHVMHpiyS//NExG8SkxZ4ADhGuAgdu2yJ2MhbY3z/W8P++9DVkHmCzv91I9ELF3xZx+oMKi///////8////n7R7v9k8MMzNb/+dYwTZyEVSZAxBqMXBMCNOPi50zs1Zf1R5gLhcAD//NExHcRCiacABBMmB4kPCwbwIilIRuNUMrFqIHjKgsiUtcVtIDoBxOQCgRgW3Mpol////RJr9O72skKR6gLL08rIZ2MZRIEBOYwEBATlMGdRICdBoOjzwCeBgKImiIB//NExIURcfawAAhMmBUkFANMFa3f//uLVYK5QmQq+7yjKJeR2Y6aMYeaWwCTDe3lWqnvFb4bHEsxs8X7i/LojqWeOQPw+NcF4IEJRsQTSLvU7yOhJlhhooQ5SAdJttCb//NExJISib6sAEhElBC0CzQOEwrHMHf6P///6XLsvGak0/UGheul63rAQlqX5V0CH5EWirsIrS7HlGupVXVIKafm/XUByxDVU+13bqSDd+LmPSqSUHTWWDDoaGzrOTSz//NExJoVgUKUAMvQcKEDU6UoNJoFEUSDPLlUdn6++bby6Y5lVKUJip3Q87Ry1EgCSN+u3///6RBDCm1i0CDfLaryO4RBawgmA4MsMe8/6BopleI7jZR2V8kzk3nM9gLC//NExJccGd6IANPWmLpFY+tR78Mj7DIrnyHtE5/kmUtWdW2gWgUGiKktMSqSKmRY04JQaicxjJRJgZMT+3DcyywdR4lH8cQSQpwbDw84vWKIp///+3RVS+i5YKBYHFGB//NExHkbydqIAMvQmIPbsOgEQOVIp/GihkQeDozJUwwbzM2mFG8XNWym0hneY2e9r75y7lZlkAMPw6Od5x9bfNevyrVwTwpSsRknnUUuBgGiuls1+txJRllKRRwYq/YE//NExFwUsUqEANPQlB0zJmKBFN0qqQ0CkAAacgcu/MqfG23FM127r+035fjv7U1RiBnMhlRSKAKsJGXQqGKwwaVv/kziYtFf/S1/Sl5pDBYxNqpC3qOAkzB0AEDxhqEZ//NExFwR6UJ4AN5KcCg6QbiEqIdkjxNTqMCQHU9LKcNY/+Na1mMJ3QrGQAGDqEV2JjNGUQNEhv/3hcMEDBEx/49O2upGV90eDYq1OZGUyJDUQnwSIBBkCgJXgVd3SSFv//NExGcSkTpoAN4GcE9Yix/Fra33rF0NlOhxgaJDCOyOViEuhhMWLvt90YQgCKt//TdWxH/////RAIUkwrWe3kCw06IWNV+vKoYPMzBj0UEa1idvq0aPq5O4/lK6+N2k//NExG8R+UJoANvKcEYKCVI7l5eUzsoWCZ2//f/vr7JqDnf/BRt+SWebpUlWskKCd09gADZWZMXssWIm6X+lKaVDVl9DWD8K/sNfTN71x7VC92WNOChAeTGXeTUVSkzQ//NExHoRMTZcANsMcC12b/+q9Z4JkQ47/6RKT9cIkzBtCtCA02BTHoItggVxgQSGCx8uqmqtWCEJQhA2SADD8tlk9rWdrWZ26vGokEBLAIVSwoyiWMKJDpX4dErv//5U//NExIgSWTZUANvMcGB0NMJVC4kmkJLWFrNJhEPX1mgqQCYhZWak0QsBRqLUyRsJPPpkjcp5ymSJHg0FAqAlgIBEmEg4FXRgCRQQPYS4FZpbx/T79ae091JMTEFNRTMu//NExJEQmPI0AMsGcDEwMKqqqqqqqqqqqqqqqqqqqqqqqqqqqqqqqqqqqqqqqqqqqqqqqqqqqqqqqqqqqqqqqqqqqqqqqqqqqqqqqqqqqqqqqqqqqqqqqqqqTEFNRTMu//NExKERqL3IAMJMTDEwMKqqqqqqqqqqqqqqqqqqqqqqqqqqqqqqqqqqqqqqqqqqqqqqqqqqqqqqqqqqqqqqqqqqqqqqqqqqqqqqqqqqqqqqqqqqqqqqqqqqTEFNRTMu//NExKwAAANIAAAAADEwMKqqqqqqqqqqqqqqqqqqqqqqqqqqqqqqqqqqqqqqqqqqqqqqqqqqqqqqqqqqqqqqqqqqqqqqqqqqqqqqqqqqqqqqqqqqqqqqqqqqTEFNRTMu//NExKwAAANIAAAAADEwMKqqqqqqqqqqqqqqqqqqqqqqqqqqqqqqqqqqqqqqqqqqqqqqqqqqqqqqqqqqqqqqqqqqqqqqqqqqqqqqqqqqqqqqqqqqqqqqqqqqaZNigRjQ//NExKwAAANIAAAAAKRMEQiHQYDYoRqThm5bf//f5rNUparjc3FLQsqazdxppFIMPDqWpalqWHDJoXD/mTpWUcYjIyMjIY0dL//ZTIzIyMjIzI0v//+RkR/mRkRkZGRk//NExKwAAANIAAAAAEZGRkZEZGRkZEaPKZH8rKOIFvU3rBS3ufyrPhQMJkkaBED0+JAGH5QPygYDygifLgMLAMCAABiABiAQCcgHwycD4YPhY4OGhccXHS46UKUF9OnZ//NExKwAAANIAAAAAP/+vL5BDQwTYcPjQsMV9VMLcJktML1hTyiu9evXs0J69e1xCfRtxgwpqqq2qqqwMupM3tAJ8FUQVESg0DSgqG1Dw1KnZZ8RLkSrohxFh3O//7qs//NExP8a2x0sAEmGvEWRzp5Z08rwtHDRvAUQB0R4atC0/8A+xNhIf5eJAnyf/9CViGiP//xG5ECDjwbk5//mpkQQdhDyuT///5YJwkDc0UdJ8k////y4mak0OAaBuaHk//NExOYTUEXoAMJMJInCIf////6cv5qXiCEQTnzEn++/6CeAQwz/pJsEDix0AX/hLF5NA5PYWEJ/fkB55/8xp6l1N/JLj9DAbwNhELAnAv/7TFeQFSElNLkv/Pd7epMS//NExOsTAOHcAU8YABMRmGq3///5sxHKI///6DazNTzMgYkI0RpeYgEgehmOAYNBgEDBYMT/abeomAR299BILW8WNag67/G8tU0LOnkWm5VHS1S7ptUn4b4ug/RciUp0//NExPIXgym0AZOQAN5thRF5nYIzpoTbqV2YzC5ZfqLNcSb1ukSNat42aQ4ckSM1MDO6c9yVtj29M3l1u2N1+PXGPj69IcAT3f/+6XAJU1NVgemlCjZna+hDI5WYpBGJ//NExOcUOlqYAZpQABYwF529MPKmRWuU5I3V9NThmH4i17VbtYzJr6wr4mtPVZZggFKqlc+JCGC6xZJo3Vuf0bGigX0qLQVwUkQrKMjzmRXWay3Z6+eiEJIXN2Z+cdz6//NExOkhmiqQAdt4AFZ+e9zy5p136H0zGz/cwzv6MlT0qQGEjqhZPmZ7Kr1eomWHUH/pZQYuEZ4DCfjCMqze/LAhjEHRIsCfVtUSZSqgU7MDIBPsj//eus6tMvf//PxL//NExLUf2uaMANvUud+/+nTUbGdV9V9M4mHH7mnIHCQo+VB2EhjGRHbSinpqSkqVEI56Y7zqcJEykFFjAEQ4SJY9YfzdEE8kFYeyo4CWNMNNAPjvNjJeqmEokoAVpsip//NExIgf4xqUANCWvQVktus6WM/Ote3T0RFLF5Vf9mSl8mhzC5E9f4+vjNPb5/1re4+MU3PfPvfc+580g11rXpLEh3eRGphnYNIYvq9aYKx0LplguhbPmIvK+HEc+wUm//NExFshkx6YAEievU02q9Vv1hxXlyQIuRVqNVqA3p1KoxID0QCgonJn5oJddqY3SUDgQ96a6+NqOPZgl1dCuR9ar3//Oc87ndCaZK/b19TDsd2df+r+zrp7DLpjbUcu//NExCcbYx6oACiSvP93OpK1OewVb/tqesrEJCl9PK0QCZQ0GRUs9DbKhM0qzPxZrpIk1UiaZcMhkllOC5LH6sVEIAR2a6GNSmtAmLNJNKkxZ6sqr3eXxQAkibuXYYdy//NExAwU4dKgAMDElHL2OkI6+X6ABoDF5Pp8ZMhIUihk+2hVeqPlKUSVi3T/3meZ2LLDOZcpbhnYKJQcDQdK6xGMHuBWSZPHWYtEuWPHiJL1RYOhqoEn7S0QCuG+lJCA//NExAsTYQ58ANvGcCL6Zwgag0QGh1bpCIO6i9JAo6PYLMONDY71cp11YwCEx3aM4YCZmyUmwI5GXLMKMH1IQ9p0RRqoNFs9Lf8rs3///qp8KORtNBwTOggkIAZYB08U//NExBAWOXZ4AOZElAqPR08HL9Sxub/LqbnJ33FQAbAXdW+6lrbT6u5mrA/3cdw/3etV///p9NYAXQAKl1fq/ot6vWdGyK7oAEzgQffIyBz////0f9eUUl2DCwQmOjCy//NExAoUWYKUAN6OldGWdQ/OAZgcdMdtSmSA5BD8bhyMnOUMJeenk5gw4QYcOVUsWvd5lKLGH/NWOf+q5/a+x/T7+ZMxsDhTLjQyppNDGGolnzrgCrv/7wiXNJD1+OGP//NExAsTuYasAM4KlHB0Em7nBBkKq+G5HDCOQKZCIzeWBKmU5npi+MZi9eX4SqWz9JzK7bww9FOeiK+jL/zyEcONUCirkIxZLuzoOKK/vV/R5+tyQK0REt8qtgOK2v2s//NExA8TOUK0AMYecWPJHAu69J2/S2kDIpXjMddSFz/K2Rupdk0+N4k4hCMvBfOMf/MkOPTdt01/9f//33h8w2xChbFF/A33Wdguqf+rpAAHuNcdyJJeGNWAhm8m7OYA//NExBUR8V6sAMvKlRQAarnlak6L7JEo3KJmviSc+ShYokFvAJQmVqm2JXAYp3wFEiMyKn37KSpSqhWuJDXchofyx+lKgYxO0uuz1dCHJFIu4cYqTWeUWbgt904VvnwH//NExCASOUKcANZWcD9PlrVFP9kkuJoah7N2wu8vnm5k/9KEoln/jb/xyyvzhvLHk859b6g/kOv7ggKMY4Gg0kZSpipaOBzHSGDyqJZSwL6lCT/Wu4r5TGhVjWF1N158//NExCoXCV6cANZQlHcStQeNAPnL7VJUXi587MqodBpIvUPk/xt18qIZ/cSJgTbjJDiUCcJOQIj6IEy76nfKKsu/+DCykttObmHAL2HkTFKeW5r4CFVvY/+tg4G1z8JQ//NExCARQO6oAM5ecO7H1a8e4aUSPureft4v+KS6/zeGGsbWImCo7iKs1qQclf+htmuM55cgwZxDgWu0WEcQHnZarH6qx6PqZIrNtjqilbk3uWpA/1qXCw0QhgsPJNgs//NExC4R0SacAM4QcBSAKC4f0zM3rlXzHP8Sqm04S6f0iIJp//oqppd+ETFVMHilpA0BERUyMwYlYzZBROZDQaFhiQo8mm1jSTgG8NEAweGuFtrQM/tuU6y6glfb/92x//NExDkQMHaIAMHGSMpBD1ST5sgqy47FcAKDmKhYohLSLRQdlAOUx0YgRL717f/WVZWlKRIcEJ1O+nIpka+YyUMFxd2HTtqxo13qHDhatbrNP2kf//9BHlZKmHY0okBh//NExEsQ8OqAANPGcBnG3eTANDg9ynBhFMg4tLulk8T4Ol9M7hNVM5wyAEaPfzrxxozO7wFRb+kmt/IwMPMwWLmxICXVGd3Sn//+hM8Xaup9Kk29AhbnMrFo2BtPGBhv//NExFoSUZJ8AOPKlIel4LKcRoBUMa0hZfEYr2RjSCVJOhTWaa7FjQkJT4AX80x8h7jbsmU9NE14iIbdsoS//Qi5dc7OTdQu2fSasDOiUcSVPlgYJHgBVIBeIS4coxU4//NExGMRWRaQANPMcC7rde50kLAgebxF7zfMqkaPDSaCnDT5cw9Yd86Wvbm7WP09xSDgcsQAViyz99kJwp0DPRKR15ZXsegg2J0//9LkYBgkRUiFqwGUVy6quLKbNKnI//NExHAXOX6gAM4GlEBBcJ1sWloeKXP8wxCQwyFS22uxTZClwsh4EaQxDEIduTA4QYjJElnneRbj2TrLyAy4M/v+7/dTflXn4xoo3PYwYYgxfceBav3FrA/gNPmEfB+q//NExGYTCMq0AI4ecZskBxuFG4mJ0zWIBkTkIpP1sSweCqMlhULaJCZb9PHvuv6ZpmTy+vMtA0H3IPanescqx3UIRQianljvkcUORxO8H9V6jZTSVr5SUQEublp9k8sf//NExGwSiSK0AMPYcJUybfNlPPw+ydDnp4HQYuydABnl4QJx7JEvSxKP7WEy9uIZrNVrnfjzlVuU5dYRY36K6sK+iFEoEh9yBU8OQS4cQA1idq66lIpk2evhDM7+sH6///NExHQU0UKkAM5YcFdov/bb+CqfVVjiQ3sMFfTs3wAl/DUqcGS3BJGp27t6FFf//TVTiGmnmJOIHYFYGXAwVBIwsIYOCAgnB+oCCbu+i7sMsa0/VqP9Xw+U3vxxUoVg//NExHMRGSakAM5McKCiVBPQQpZS1ak3qy0EKBYWDv/puX///////QoyQAiYTAkBlQ6nql6YgCThmCBKZqJbH12igEGgdVbesWpaDMSupTfytXwAlXj1ogsBFxaobGKe//NExIESWQp0AN5GcHCxvnY2vRd9H66tal/Xotq+qg4uIYJG3MWOABQwQFLlsCVL2oIHIZthe3JrB1BztxYXgmVMMbbJXEQBgdFzbdVe4k5ZYbr339RcvdINjsPkMTQR//NExIoSIJ5MAVwYAN7uq77nqqHeO8vGY7FSZf///8zcQmTzUnmjiQTDl819uiP6/vq+ZKzdFxpqLFj9/3+6ut//9TPfXx/wyFpqaL6N3GpPZ2/7QDBpZ8HIGnuWFwBp//NExJQhQypIAZpYAMCYE4eQbLrCAhqAUAKEV+/H5G/A4KCGZ565jLn4p5a+E63WGK1i9T/HHUj2NO5MQFosojnKfK3qxK6OcrRT5h4Lz/Q7FMsMMse9s4//55097DPD//NExGIhAc6gAZrAAA7h+ev5/71r+f/75rU/tLj6QxQ8XHq5UKv90Bws/7ZT64+tarS4qMQqORaDyr0rQ3tq+IjjPDg7OnLvEQEZ7dYBDVyZfLcsV3ZNMUPtZME5qMxF//NExDEZ0TakAdl4ACqdteExH84wcQWNv121ad38j9cvXqyj1PLd84TUEhNYcKINFWPKAiKiAxQsoo+taJH9////5Srn/xfQQeTyiRJlGc7J79hmQBYpY6nHhL6rAN5T//NExBwVsTK0AMYYcM07UMvxjVlMYr/AZFwrk9rzE+EA4JpUBMnjiJLEbl9e2CJ1z7LKQTjcNnH3PB1g+mmM6HPXQTveVVSi9wb0Niq6QjEAiJJrK8BPDhYXOCcoJk13//NExBgRuTK8AIPYcPO3MKaUcfD5cnuxjROLJneIOQnHgsGJywvp281DOWvF1/vWC+7WKNg4iz/vr//XbsB2AKM+yi6EyFAvfhuaBqAWyBrOtsBXA69/6amdql7MpT41//NExCQSoTq4AG4YcH6LjIQgXJ6kRSSJKTbzOW6+1rnz+zav1raFiF+MKmG/+BQ8B0/49f7/aR9zTZ8tZbYQSSBxdu3SPeFSitOBOa1En2o9779NDxzmkgQifUpPARMR//NExCwSWUasAMZWcPD8w63Uz93/2/r20yd0weO2eBo7b/TEwmGmNGV9Kt7/bghIBSmp8tyHEqJdGtmphoFRzGdOxS/N1Yxf////7SGb////9tf3//Xb6EZ+66nP1L0Y//NExDURMwa0AHlEufUiBGw4s7ISHFkIdkACCJIjZjif///////////Iv///9/27+n766MezZzT0VWPOZELINGU5tyRFzSA+QPIHGlyaDhMqNCBxx4PgCAyEo8Jxsho8//NExEMRsyK0ABBOvCgSBxoK////////7v/sk1lucz2rmVQ+fMNOLnMpE1RuKS6mkWc48fQoKlNHBeeWGxcSTDjhULhKJC4Vg/DYXUDRlNUB////////////5f////+t//NExE8Pix60AAgOvJaFR/NtcspHW4x5mcRFTFMqOWpHMdFYOlZjsVUQYDAUWKHQ4Lh8ARw0OkFlQREB4dHCTiIAh50D4qErLf3//////////1LtRqP+3vNqtrqj7IZ6//NExGMRsyKwAAhKvLaVVlIodDpS+VhJxUY5g85itMapSsoi0ScYAwsMDwtSxhEOh0gi8rMYzlER0UoSYJtg0383VLvJ58Qi7ppnySNiR8YA0uSJwklfQQHoOQ0Mkx8J//NExG8SWwJ8AUooAVLP3JAlAq5kaDyHiUgcQnwWHWrE/C1iVmZumaC6MKD8PQSoTwOeje1tkC+tSRoxuNQ5pkSw6iWjCDDf/qQ5unoMsgEqbmh8d5sskE0Tf//3pvZO//NExHgiKyqUAYtoAMt/lM4iSRdHqPiJaxUPM3JlGN/1L/+j/9tlSg0971umQPCYij0EQQSVWMYehqmMptIkJGssqlQ44RQyIaio7rQyCylhKpBtBK47Upsb1fZX3tYD//NExEIROdqoAcIoAE+wSgHs3VTJyGGueI0hLzRvqyrqA+oCQJqJzYUx1fxJQcun2hjwBHOEoSCg8jBWWeBSAs8VBUcmPzdq6G3DzvS87FqYuWPMF2tFCVUBFv/t6X3t//NExFASCTaQADhGcN/kh5l6a7C32YSGi8PqJMJ9hZ7dywd5bgWcldA3/+0xdZ/7iGP+X7f5V39tf6v/+e2YdZ8ff6nz7iMeTaxXAaLV09ppUt9z9SuRkROu5Q3dFv0z//NExFoRQAqEADDEAaAeSAKS3r+3RNaTe4jt6k5ehq5egflm7blXYSb7Aa5p/ux5/8cmdr/5QZV2e+m1hFTyyohG6kdJBjgYQxWGZqIWz7/Dw0AEtkpddZ8Y1QI8LUrj//NExGgR2NqQAEBGcQPgTBeit4wwAeAxu1YuRNE0/u2HQ4McdtUYMjHgvBXf56v//q6NFaufK4wkGeyh3WmkA5/NSO9Dz0HCkkv7eEvW7M7vBDtLKlyXCo0EyCxjKgBn//NExHMRmL6YAM5eTAGVP2bSQKFAYYbBmH26vhOVj5zH8T7f/+7ob+TVy/V0lQg/ci88wg+LpMcKhnnb59CnC5/P4nfeqXNxVm/f2m6uOXf7xCz5Nf/FftxlQoSVNlHi//NExH8SEOqgAM4ecGCfjzeYjnNOn1//+3T8+7/5Y5SqtYc4F1lcmHMgR2K6FwXhtzV4JJBatgbMSmsSnFv7enV9Whhmtd4UcU5R3hVnRoAxKihgEeYJbn0f28z1P46f//NExIkSSYqsAMYalLKTfdJba/hiy/dxWdIbOZ3gJsrpygAvi4ugGsN3xyRDFI2FtTzghbLmA3KrJYBJMugOi9Y7UdRELHu4mTqTUPxq60zNVbpOtkCPoq0bqqhWx/9J//NExJIRsZK0AJvOlPpRC9PxZfQRuazydAL1NfqcS1re5f1T/0lvfzIrr/1V28yK9Ydotg7KezEv7KS/h8fs7y17LfDJcTcq6iolN8uLVbG8qUEowUViS6HsNFOMaMVg//NExJ4R8UK0AMRacJXMJhE2h2jDUZK7yyKr5wk0J1mRcqHflbmbeIKHK2JYkHgXD5lRWqs1a4/+G/+YowWJDJ3/yKFqfSMxJD8qb4JAVWtgDgI3m9M2EyYBh6OhBIGl//NExKkRCU60AMPMlN10hJ8qyypKmeO4zPf+hGdfRr/QRNW7zVvq9wobmVfNO99fCl8wecdI//8Gv5Z97CcgAEjdDM2EPWmBQWPnrCg0Dp0O4gIWnRzdO8qEVP+qfmtC//NExLcSGUqkANPQlGARsYHW0NnCjGZG5ytU4FZ0FA9y+jUWYww///KViRy9i9TgPUbjLgDCoznEQQZXvTolBgZusZj6TOYNRDjjATkRuqayfLzhONYJUt59pPP284YG//NExMESQT6IAN4WcCpzX7DnL3wVwpZp9f8ww/7N5yElJ///3zZy2Zx6MQ46s+////5fJ/tA5yfpJ72zdHmUfj///j/7YT4pBZ7TeyfBz5YfoqJ7Dp83EGGhioo8a0qG//NExMsQWUKEAVsoAFlCQikiafkfXj9u6+VTLr63+p1OyCmtXWr3pv/X6aS7tq1v7epWykFWspbs7qTZTIJVqqQRTeyVEvnFMUz5xNAwQY/NkXQUXDcmzMhhcIuQdM/S//NExNwhGyqMAZpYACcLhmorJjnlMnyLkcQ0Z0khzxYBQYx4j8i4wxWwsIzBOojiFJrHeU01b///+///6/////u//////H1H/9b819dTaRf/8LpzqzNvoifHG17HoKDU//NExKof2x6YAcmAAFtsY6it0KjlEhAvYhgasIEJgsDZwuEgGiEUaCoRgKE0ym/+hf///7gUraHstf//////7eWpf15Cq0xmuhxONImUYhZxxWS7Trck1TOU4cUTdlDh//NExH0Smx6sAAhQvUBnFBZBIaHSh8IKBTDEUREhVFFA+hgY35jGN////vN1K1StK/////////Mb9DTSlapSmM9DZih0Oh0VKjlN/XTshqGVlEQ6HQ8AwGMZyh0VUodD//NExIURoxawAAhKuaKobZREOuBRdUsNok2U5413n5tcAT//Pqm7f9BkSSEYEsoMXzI4eKYlY5GJMvpoNNh7EiNJNGsIuNgE3BGzRDyQQPJuxKjvDni0RJNNN0PWkzLU//NExJERmwakAUUoAV0ppm5mblz6uptCtaiQNEzo9x3m49xkf/uktem7XQJRjBjNkGNE0C59NN0Ff6lKZtkXV9TLJ5TNx6E03LhKICcYDUmmt2VikBQiizFpbmM9nZoW//NExJ0iOyqEAZhoANztu+4d9MwvgZi3CyAMFc5WYOln2my7rXbCmMEy2u9UVQrY4AmQWMsa1nu///2M0dWfRkNCERL1emAmT3zhKJZvdCPhIUQ9ockygI9UUz1hfSig//NExGcQ+SakAckwAMmzkytuaNPCooLDlCcNgyAyonXSrXuQcNPo3kH0AI430IWx32lHOLq3pWDDJASqvGxGGi+UKKDWqO5HC2FvkrVXVbnddNl97J6BIJ466UxYFFGu//NExHYRIMKkAMMSTM9dVjnmoh9xCgqXB4XPzldTihxJ///9Sst3GyjgJXUjAzaBaiqhega1P7VQGCutukSHT5516V3We3W8ntiHAow9UjUqHCa1liVRm2tJ60EnWl2S//NExIQSGMaoAMYecOtFlua1h2mymEbdinS0AZVRp1szFMyaCXWMOMOKE9K95uSC0Jhp3pK/Nymp47nKYy3lnhAgElqT2Ictq9I2rhKfRJlU1R2XPTqn9Fqw0aXVlOpa//NExI4RMTKsAMYacI/HbmK34QhyMc7hAGonLpTeElGKR3ZOHGJmEsZvBUlK6E+QLfmEWOr/Cn+bLiPTNh3QQEMTBlEPEekVnpUt//6c0s5dasrsoKoEwg6PyRKYRSAq//NExJwRSPaYANYWcBFL0EhpSI4y664Dl57krz3vu0dnvIxjVwLRpDAnduI3oJYChJi77moSbLEDMvOeXNGlAiJwPH+EJcoGKu8vuQHywJTqpFS2Zr+AxWD6FtAMeLy0//NExKkR2XaIANvOlIfI9LnUGqM3zu/1v9PjkUMVmiFCyscZR6kJMu99eWfli+a5efxslrepIkC8U/r/TaSmjpVWEY+WCb572F+LDRQM4hGRUwoYuJKFrXzzXMO7f0s///NExLQSUR6kANZScPP+v/7v/kz1UABhN4BV20QmZQFaLbxY0Sln6j09Jf1KapSN6UBcFj8SCz+KCHAheDQbDrcDC/GTVbrbJwzFYhG4WvmIrzmmx2ebH1/VdOP3Kqra//NExL0RqUakAM0ScMqrfwy/1ixvWGsvbwqbrR3qkZJRLbY1LQpHgUDMjkTS4IIJFwltj5wEBATIkDCE/Jg185am66mWCOsPUXak//Y9Xoiitb7O+93zX575MH8lJk6H//NExMkQmTacAM0ScB297nvpHt//r//////1qjAApPTG8GDILjMdCAYggiemyimZLJgsAi7YIC5j0JDgBLlKXDAEeIBGA1kILcPYfxym5dHaRhxE0ZiWJEoFZKFweqJ8//NExNkSeSp8AOaecczE4bsgYHSaOUxJxJEiMCgYlAhkmTxxmCUS0ZAwyTGSlW1m+qyaC0zNJBBbrv69SlbJpPNEFoobNtb//u6T1t6/WrOmeXDgqHnooTdBWk/FCquO//NExOISiSZ8AVtYABcJzkxAzCSl3ta3m37ZzfJBk7jq0Xb9n6tvPawvWZgNZUJMdOMfOHhKoSgowTzbDDCEl7OdG7c92xBvfFG2jTQpIE2yILENsmAKxpjaR6j3/9iG//NExOokYpZoAZxoAGmhUfBYfG1S5vYNvQ6OQxtZ7Nes/8IQ3+5/9S8gdhAjLQ2aBv9JF7WjLxrCWqp/FhBAADgmjgp4xL1VpMoONrWaelqf4tf9bK7r0CAnDgKOruVu//NExKshUyKsAY9IAdnWoNUQOpwRnzb/zc2hhZSrKAiRUFQmWHAYDG2qpEQM9f6yTv1/xSp0O1QTOET1VrLAYRNK4BUpYhZcwuMbVxCHGzhjIk+rA0L5DDEURUuxiikU//NExHgTEbKkAc8QAAk/2WXeSh0H4i9R/JXA06/lhYtbV+b1n+NYbJ8LBbA6eL2SKDhokPQY0bVNc1Vxykx2egtMHX3Uf1U8jsmA4KXdnFmtq//+uZNEao/PXRBcdYkv//NExH4dUeKIANYQmILMmk0q2bDAxsKmPoCspHQo8tdkjP3tzxep95bQPE7r+1IciT5CHNHeEsAKA8Tj+Jb1+tHa9bvbWWbQ81dbU6Gk0fl0nSyP9SbsbbsYBPAZSUCV//NExFsUMQ6UAM5YcKgAimigAWBYdMJMhoNwrjmZt2QO+3o+N29Q2fmEh+5YKWtCXE1r5jYowbuKc8MHoXAaYxgnMRm///984rH1eCXswMBhAUaMvVQMiZBYCirSRGYt//NExF0R2XqEANvOlAcogLTF3ctY0M70FbIs8mIAGxVT2VlftR08Ny+1JXCGEqDWcPiAko+D46NCLf//6Gm5JINtqpXlLQUcnhD7cBpwYxLQCCEDhlilh+Hgn0wA7hB1//NExGgSiXqIANvOlbJ4GBFUwJgFpIp1EhuVIBAxeVkiksO+x1tv/zOft7xXC8tUXD3uubBgAf1NjEZXcqERbGBKpaxpOQKc+qnoAfKJjCWHHJw6xmvnEIcZSqJkdqtf//NExHARuO6cAMPYcAQhhjRTLj7anDfef5n+pZR7aJMcC4rRX0Katc91i5kWxgxl+WioKXdsEZ+mIDi6kAeEdZSAnZoy7F7jnYzWwJMjnzGOBVw4zql2f5f/+v+Y3zf///NExHwQ4N6sAMPecMv3mFjMAKFabLbkPFXXqBzaPHA9R5g4jE/REuezkCeNiUI58xY0xaj6p3FfuXfEY1a4eVnNABAepkwDb0x4OZWx1ITq30oyFS69A7SZG3Utkgl3//NExIsRMSa0AMPecP9a7+YKLP3lF1LqsFiN8HN4KMINLoJcjayntDokkt8qy+sT/y2Pa/hCXERrrAqJaBUlNEBLDFXxUQ1acp6ioThUUVsY9TFjREn66q+dwx0llKWE//NExJkR6SqwAH4WcIsSKVAHBTdDQNV1Fy3RsvUN+107zqf/Eb8vcfG/z+fzt/lWigoXiAenKlsrcPPGCIq5Z70Y4Xot7v/////lqkvWbDA5lQhnANBNJkyByEB3ASca//NExKQSESasAMPScCAuZ+1hZDawjMt5Wzx1l6gIkrKWVzGMY3y9SmKAoBKJDCigwEpUOxiu3/bX9kM/QCe77Fu/phuAZoOfoiBAIaxbsdosIA5mBbwgYdQTEWi3yefF//NExK4RkSagAMPMcAFwgVUiOHxhXJ0jTIYOEDi0KEMKVMjjrHDqYoe1xI/RSXD9EisimilZDjr1kgksXkUYbVyVERdDj0gyJodSO58DjII6WblbiEune5eWqTXq+0pO//NExLoScZp8AVkQAKa4v/7ndft5pI6W65n7SJyx9DA1ekZdMxxEjk+bKou5cf1RHQ9k5ueL5eHiSfpoF9MkTIuFn0DNNAvpmRkaGX6ZgsxOMaDnLyaSH9MwYxMjx4OU//NExMMhIxJEAZpAAQ7FlEk2S/7zxuzG5cQKBoS5USRSYjCef/l9RgTz6S1KZShgRzjnH8Swbx/LpqfRNf//W59d1u6kEPSOGBmcQKB9ioinjiWZhdn5P5pYfPz1Ofua//NExJEg+yqYAY9oADm3t+5f5l/w91uXfh6nNukDb7RIDmPL1HGo3k1S0SsxAUA0AEq0GzMk0HrXQy+gRRZfg2UZ0PH1ExxYgNqsMSXQQWXVP4qVWEWwFy3YeIEBQTJu//NExGAhEx6gAclIAERucV3b9taf6rMbVvN8WckhrJSrFXTSRWhxa9Vgf8/4Sgs2tFUab3E3FsgkLAGdeyhutpBIeOEJ1H21fv8877FW5tlLfKgpKQNGhfWL3EJRMnRM//NExC4dKhqcAEMSmRMjPmGkZfaTN8YXRIDSg0gbRR2Py6h83JbcFaS2SU0BwBqaZVh9vLqMIuw7FVVDkXHSMxQXHBqgFN9z8jhvO21r8gpe32/ax7WBglw0dVga98al//NExAwTeS6oAMJMcMFHsNidVaYimvNRBSOH2qeCrlt8IbkRSR4SCphycAlvRi9057pHbKTEAzVOqU9aW2MU4BEx7YvEhogFSYSf////17e6AqWd+xH0G01r8wwAdaoT//NExBESmS6sAMPMcOJ+HMpQhgCQUMbcVpiXiTQGSJeIdExDLBDNWkgABoFhjoXB47EGK9unOXWoMbt73d6N6mpvt7lVoSqbdAgSo3kXSHnINaNlchvYkC1GTSVPPrm+//NExBkRqSa0AHvYcGVqAXxl1hZONn7v3QfgWFmxmAcszKt3Zd69natu2osW5LDPhVI28u+n/re/d0W2JQN7j2wTGnPcVXgBiOW2MFq49do2LsuK3LCNOnkMuR2L5WOq//NExCURUS60AHvWcBgoG6MgiF0pk7orO+UnazKMwv11mSbZR6qLb7dXbM9y1f7ByJbT4GvHu9DtrUQ/XM0QPdSrcbYBZOrQQt91U5lOBPbArQhMBojGyQ70nK3wU3EF//NExDIQ8SqwAHvWcN8revXJzgpsVPTi3FOy71fdqb+ABJIzbaI5NigNe0pcTzo9EKcbl1Vmsg7XjyCLosVbQ5hrJUL+iMUGwYD6FRGAP1GdZqnpNRfXrQ5pWal9wUem//NExEESWTKwAHvacBuTWywd93+pSpLfqiNba2sSUd/JmZfKvpsSMeE0Sp3nVTlrW2YhkMqVfCWGrwjYiVhdwBOKJeJYe9ay2kp8y55621dJqk7pmQSBtYbQ5Dbl9P/1//NExEoSiTKoAMYacFWGMpsRTSDwthZGXuiPosfEiad+TIyq1/cQ5WpmUDKWuSt0guF15oCZCMHguRCUI1uznvFY+8RnCpwG3o9cqZUfa8jIuHi/Wq3LSlhSq9AAFAkx//NExFIRqMqkAMYecBCCAGZZl+ZDiROy7IYyrpkQs+5YIIq3yiyQRHtTEyjaqypuAb3flHf1MfUPzvm/T9V6YME4NS8D///pjeM0SREx3KEqstQjkEgClS+pNIXQ5bho//NExF4RgUqcAMYElLdyfOOppPlTiBp5CyejTaFp05sFaHAfMR2vUXkKnQ1cyaie/9x1QEKsAQE///TVnM+Ctw8/vYo+ryUUTuBsdNNiIkeAsZsNSb7KUEIsBOuK9g8v//NExGsRiO6cAM4acE0amXmOKgkg2/JKDNza5OZYPkTIib64lILgGRGgEh2f+hV17UgBKQ941Z9kv6e4gBidGimbdombLlbTFOFWLbTW/tOisCkxqjRtVkXRLW4s1dev//NExHcRUMqUAM5WcAzSS+3jdqYXKXWoKV3JRYoCFom3Cltua5/loSeOWBkyItQmCrO4MUDMNwQILCnwoEjSIZOBlMrBZhQYmPCuZUBywiYLmABBwHi7QAmbS2h/B2qd//NExIQUuV6EANYGlPvDdPAncRtNITdTu15Pq+7W0QHDRC9RiG2dwTBhzLNb7zbhLMypwpp3RH2D94td2jRUKyFEqUSBBZbP////4vVwmWrWL4mKYKaKAiTWRjAvme6Y//NExIQcGVZsAOPSlGcAJSsRRkLf0s4tIvaCwU1+rZmOTLtMSh3PV1uz8yxurOWlQXCrfYtOfjVMLJUki5EAPg0CTD5F7Wt+rgYza3QsHQKXZhlXX/+/NzzNm70oizEl//NExGYbebJsAOYQlMGno/////vUMBABil5d5hKQmNAuygQAIICxjszmpgS3Z3XPkL9ifo0HnHc38RDZvjDlP7tiic471wLkqtucab14geRkZgYxAKiqyt+ra4Q4cLGP//NExEsWYVJsAOPElPlUiA0TYqiSen6f///+mlloaDgMKgjSUzPFAMbL4NLMNHO4vC4JUrTnMH84DlkTQYBuohXOo36My7+Xr62CNr96GPJQzo7FKVBWqN7f8tVQGNZ///NExEQReVJwANMElP4vNS8UaMsEaQKxTOVMgKBlqoogFCM6ICCdFBLNDVIZfTS3IccNgZA1CYLRWOhsYpm6R1msz3stMwuRg0QJiLBNNu07JSq/yuytVVlVACBKNby1//NExFESoMIoAM4YTSgxfJSxOBKyty2cLiamjLfa55qgNxEgfDJYRFRU40JTwDLJFXrc1h3Y9bXfne4WaIVSbWFqIiHu//fqv0KwkBSDCVOcBDxtqSInSClFw4IWIFNs//NExFkQqKIMAGJGTLDgUnETvU9BYsLEpk6AhYAhksDUGg7Ep5IKuFwVc4RLnkqf/srdK7CSL6n1f7LaqglIBmofcjPTIrF1IuomWOlEDbMoyQkQyMkCNjcMmaxy+yX9//NExGkRUJH0ADGGTFqCjkZGrBQojOCpE1ioo3+tkVFST4FFBb/4qLcUbi3i//1C1RI4gDCViemlhP7fZnZ2dnYYchyf1RXZ3Z2X/3Z3Z2crjDjjHIfRV6mZxhh2dnZ2//NExHYRmQGMAGJGcGdnZ2cYZzJkyGDQsJjJo1NG3fzZkyZMmjQA4GI2pABThEASxFI6P4/pmDgDo9k9kiWIliBFp3+Zz5elkaSBPY///DOPAnEDh5j/3IeRLv//geI4//NExIIAAANIAAAAAOz5+DWbUd8nHQNT/P8nyS3BVE6PNRIpujMzjBaxIhQZFGPh8MrS6Xd9Jbsba51S2bzYFkJrBdAm5rE9hG7Jbkb9ORHZBeJpOZoStvYgfAnv3jLb//NExNUR+d1MABiEmNTsx9q7G8lTUO7f/dWIjz//VTRgsoJFeVTJojHH5yfF45dDU3BNqNVTg2JuhouSKArESjhqAlxyZpdr1ionIir2/E4SoisjKVzpMt0TDIrjSALA//NExOASOCX0AHmGAVEyJSwOCJhKSLV+3mDuRYlS5xZ6JyxSRFE5sqySYKGBhxo0pGLc6hJEkROJZLsY0UmWpln92KmaOxHJu4a7/bETiSI0ojoe809xiisCQBh2vwYV//NExOoVUQXoAHjGcVjWBm4GUFQVBUFQ6DQdUe/JQWeDR4RHSoanYiq/y1blgsoGng0GhKGlgtBqW/olnqPQ1JS3/KytOEk43D9ONOTQ47HZ5m/AFj9l//8yQJmlNCQg//NExOci2xXgAMGMuewivECEHNCDsITrwnOPCeJuwsMHyB8dtGa0esoXKEw+GAsEQOr9owaOGvrKFwOUE5APg8ERwRC6EPRpQKmkCotBcfduAKV2pyHN6oIpDCdngMHX//NExK4P6E3oAGDGJLKZDM+GYQhN7PTJ9ZcITSaJWzRagoWbpI8kEkK5aAMbqi+OEwnpA4aQpCEAJJObtZcLOxCI6BmLePrwYgm556ZP31Vc7pM07DoViR6jOVE2neaY//NExMEUqW3QAHhGlIIM2Qz0+Q05UbuINrwZdcjqb4Vgp0aaETGKZiCAmIoGCtWxddl3bcMzta1djN6mI5zQCAQmZOJJb//3/c0iRRk4kSSqqr/1Vb/U5SWvjVlEq30c//NExMEh4xngAMGMvUpz1VVRxFGZk1Gf2o4lVEgYFAIBIgoBAISRqq2SJEiRJAIkSJEkq7zjVszj84kS30Sn1VVVVMzjVXY0iRRmSJFH9qrZ5xpGZNIkSMjaAEShwN9A//NExIwhYxnMAMGMvTc0CCCriE3A3NBAs4EAEocWI3AxZwIIeBABNwMWThxbwIAJoAITgYt6HA3iACEgQQThxb7gb6ACE4QQVDgbxANzQAEFXEJXA30ECzQIIShxYjcD//NExFkfkw3AABjGuRZoACDgQASuBiycDFnAgAkQATcDFnQ4t4EAE0AEJw4s44t4gAIqOkjUJoKgbJ4hLWVsTk3YYdyczuSiwQIdgQIVBAn8e2M+2nvc+4yMe2i092jM//NExC0dErnYAMGGuX8RuPbRvoc6/ma8hv2oWSEbTCJmghbQ+IJ2CCGRwM0UOYd0IOBslAEc0GBgZugAIdggipvAARwIB6bshLuHLx2vzD6wxym16jeCPAqhxKpiBINP//NExAsScE3gAHpGJPGIYCFMGAhIKgriUFQVOgtlXFjyj1zIilf/89JaYlcVdWGlgtBoqkRHiwdWdDsGnCV1YaKgrI4lOlj2WeDQdgMEMAMCygoY8ANgghwgEhyXPth///NExBQQODXoAGJGBC75QPgg6JDgfW8H8oo5k8TvEYfUCDhAGIfl3/V/1BisPlwflAyoEMEPWH5QPwwQHFjEaF8q3FktCVztvg/dXphVdwawNTelISkJJhz4cDDhw91X//NExCYakwXoAHjGuQoUOLNIGVmPzet0pbTVcizHamwIEhUHISjEWZDFJ+aQ7WbWEWb3hSdpnWyW27KSSMx0EGmRESwiIiIshiSSMaAgXHLi1TdFxMlQEgSCniU6DQNB//NExA4SWB3wAHpMAFOxEDURB1Z0SuDsqGhEeKgqWBr7KwVU6JXHhEeBUNawVdrOiU6Ip0qGuJesFXcFQ14lBrBUN8qeEoaESgoaPCCcbKQcYTMdp2Gy4sI0m8rKOIEO//NExBcSCL2cADGGTF1lHECHckyCB+LBs0//5szmTQWFk/iwsGwQioMgQI9hnMmnzQP1JCIbBMVQLmsVMgnVEoNhgLlDoZXmjQeNGTJky6jEwbdFxCafUZMhEUFjLnb2//NExCERgCH8AEpGAP/9CTIDFUiohNPUAjLlmjRrpLigsZdFSBo0bAYJiqhU0Dh/MhELF0A5RIWHublSoBGhL54RCJZ06iSKrCYLPPM1KPBwSlfuOh0RFuRLFRp0NI8F//NExC4QyBnYAEmGAIsBhx72CUqNOke0OkSxZx0lYVWNDSpMQU1FMy4xMDCqqqqqqqqqqqqqqqqqqqqqqqqqqqqqqqqqqqqqqqqqqqqqqqqqqqqqqqqqqqqqTEFNRTMu//NExD0AAANIAAAAADEwMKqqqqqqqqqqqqqqqqqqqqqqqqqqqqqqqqqqqqqqqqqqqqqqqqqqqqqqqqqqqqqqqqqqqqqqqqqqqqqqqqqqqqqqqqqqqqqqqqqqTEFNRTMu//NExJAAAANIAAAAADEwMKqqqqqqqqqqqqqqqqqqqqqqqqqqqqqqqqqqqqqqqqqqqqqqqqqqqqqqqqqqqqqqqqqqqqqqqqqqqqqqqqqqqqqqqqqqqqqqqqqqTEFNRTMu//NExKwAAANIAAAAADEwMKqqqqqqqqqqqqqqqqqqqqqqqqqqqqqqqqqqqqqqqqqqqqqqqqqqqqqqqqqqqqqqqqqqqqqqqqqqqqqqqqqqqqqqqqqqqqqqqqqqTEFNRTMu//NExKwAAANIAAAAADEwMKqqqqqqqqqqqqqqqqqqqqqqqqqqqqqqqqqqqqqqqqqqqqqqqqqqqqqqqqqqqqqqqqqqqqqqqqqqqqqqqqqqqqqqqqqqqqqqqqqqTEFNRTMu//NExKwAAANIAAAAADEwMKqqqqqqqqqqqqqqqqqqqqqqqqqqqqqqqqqqqqqqqqqqqqqqqqqqqqqqqqqqqqqqqqqqqqqqqqqqqqqqqqqqqqqqqqqqqqqqqqqqBMNisVis//NExKwAAANIAAAAAFYrRo0CBAgQIEDELu7u7u0DCBAgQIECBMmTJgMBgMBhYAAAAAAAAAAAAQFkyZMmTJk00IiIQv/iIiI7u7u///13REREREd3d3P/67u7gAAAAAAA//NExKwAAANIAAAAAAAAAAGBgYGBgYGBgYAAAAAiIiH//o7u7u7mn/+aIiIiIgsPDw8fUREwqIkRMKhEhEopIUJKQlUIUDCkhxIpJI0vFGvii4tZUWkUUpEt1ImmokhR//NExKwAAANIAAAAAMOJCjhxISaNIiZDES6WSK1Oo8PbR1nGYo0vFGl4s6LWVFre4i9Mi1F3Ci7jDMvYw/oJFMtIqlki5RImyNIgdDiRVLOK1Rp8Ke2hlF3Ci7xZUWsq//NExP8fuvnAAEmGuS1l2IHiG2FVUarFjUTBVE0TBVExgrKrMqwVBSqxhSDEGMKQY1JSYwpBjAXAUZ1RnZ1RnEoBQVRMFVYsaiYKomiYyqxhTCqzKrMxqQYwpBiDGFIM//NExNMhgv3IAEmMuWpKTGqBnAXAUZ1jVqsFUTBUFUTBVUMrMqs1E0SzKQYwphSDJURMQU1FMy4xMDCqqqqqqqqqqqqqqqqqqqqqqqqqqqqqqqqqqqqqqqqqTEFNRTMu//NExKAcewWwABjGuTEwMKqqqqqqqqqqqqqqqqqqqqqqqqqqqqqqqqqqqqqqqqqqqqqqqqqqqqqqqqqqqqqqqqqqqqqqqqqqqqqqqqqqqqqqqqqqqqqqqqqqTEFNRTMu//NExIEAAANIAAAAADEwMKqqqqqqqqqqqqqqqqqqqqqqqqqqqqqqqqqqqqqqqqqqqqqqqqqqqqqqqqqqqqqqqqqqqqqqqqqqqqqqqqqqqqqqqqqqqqqqqqqqTEFNRTMu//NExKwAAANIAAAAADEwMKqqqqqqqqqqqqqqqqqqqqqqqqqqqqqqqqqqqqqqqqqqqqqqqqqqqqqqqqqqqqqqqqqqqqqqqqqqqqqqqqqqqqqqqqqqqqqqqqqqTEFNRTMu//NExKwAAANIAAAAADEwMKqqqqqqqqqqqqqqqqqqqqqqqqqqqqqqqqqqqqqqqqqqqqqqqqqqqqqqqqqqqqqqqqqqqqqqqqqqqqqqqqqqqqqqqqqqqqqqqqqqqqqqqqqq//NExKwAAANIAAAAAKqqqqqqqqqqqqqqqqqqqqqqqqqqqqqqqqqqqqqqqqqqqqqqqqqqqqqqqqqqqqqqqqqqqqqqqqqqqqqqqqqqqqqqqqqqqqqqqqqqqqqqqqqqqqqq//NExKwAAANIAAAAAKqqqqqqqqqqqqqqqqqqqqqqqqqqqqqqqqqqqqqqqqqqqqqqqqqqqqqqqqqqqqqqqqqqqqqqqqqqqqqqqqqqqqqqqqqqqqqqqqqqqqqqqqqqqqqq\" type=\"audio/mpeg\" />\n",
              "                    Your browser does not support the audio element.\n",
              "                </audio>\n",
              "              "
            ]
          },
          "metadata": {},
          "execution_count": 4
        }
      ]
    },
    {
      "cell_type": "markdown",
      "source": [
        "## 💦**Demo 3: Story game**"
      ],
      "metadata": {
        "id": "UG0_f0gJQl1r"
      }
    },
    {
      "cell_type": "code",
      "source": [
        "#@markdown Adventure game with reading\n",
        "print(\"Welcome to the adventure game!\")\n",
        "print(\"=\"*50)\n",
        "print(\"You are a high school student who has been chosen to embark on a quest to save your town from a mysterious curse.\")\n",
        "print(\"You will face various challenges and choices along the way, and your decisions will determine the outcome of the story.\")\n",
        "print(\"=\"*50)\n",
        "name = input(\"What is your name? \")\n",
        "print(\"=\"*50)\n",
        "print(f\"Nice to meet you, {name}! Are you ready to begin?\")\n",
        "print(\"=\"*50)\n",
        "# Start of the story\n",
        "print(\"You wake up one morning to find that your town is covered in a thick fog.\")\n",
        "print(\"People are starting to get sick, and strange things are happening.\")\n",
        "print(\"You decide to investigate and find out that a curse has been cast upon the town.\")\n",
        "print(\"You meet a wise old sage who tells you that the only way to lift the curse is to find a magical artifact that is hidden in a dangerous dungeon.\")\n",
        "print(\"=\"*50)\n",
        "# First choice\n",
        "print(\"You have two options:\")\n",
        "print(\"Option 1: Search for clues in the town.\")\n",
        "print(\"Option 2: Go straight to the dungeon.\")\n",
        "print(\"=\"*50)\n",
        "choice = input(\"Which option do you choose? (1 or 2) \")\n",
        "print(\"=\"*50)\n",
        "if choice == \"1\":\n",
        "    print(\"You spend the day talking to townspeople and searching for clues.\")\n",
        "    print(\"You find a cryptic message that leads you to a hidden cave.\")\n",
        "elif choice == \"2\":\n",
        "    print(\"You journey to the dungeon and face many dangers along the way.\")\n",
        "    print(\"You eventually reach the entrance to the dungeon.\")\n",
        "print(\"=\"*50)\n",
        "# Second choice\n",
        "print(\"You have two options:\")\n",
        "print(\"Option 1: Enter the cave.\")\n",
        "print(\"Option 2: Enter the dungeon.\")\n",
        "print(\"=\"*50)\n",
        "choice = input(\"Which option do you choose? (1 or 2) \")\n",
        "print(\"=\"*50)\n",
        "if choice == \"1\":\n",
        "    print(\"=\"*50)\n",
        "    print(\"You enter the cave and find the magical artifact!\")\n",
        "    print(\"You bring it back to the town and the curse is lifted.\")\n",
        "    print(\"Congratulations! You have saved the town!\")\n",
        "    print(\"=\"*50)\n",
        "elif choice == \"2\":\n",
        "    print(\"=\"*50)\n",
        "    print(\"You enter the dungeon and face many challenges.\")\n",
        "    print(\"You eventually find the magical artifact, but it is guarded by a powerful monster.\")\n",
        "    print(\"You must defeat the monster to retrieve the artifact.\")\n",
        "    print(\"You engage in a fierce battle!\")\n",
        "    print(\"You lost the battle and the curse remains.\")\n",
        "    print(\"Brave You! Though the curse remains, people appreicate your effort.\")\n",
        "    print(\"=\"*50)\n"
      ],
      "metadata": {
        "cellView": "form",
        "id": "qBAUNW9qP75J",
        "outputId": "a9b2900b-0470-44e9-ec32-768401f7c0fb",
        "colab": {
          "base_uri": "https://localhost:8080/"
        }
      },
      "execution_count": 5,
      "outputs": [
        {
          "output_type": "stream",
          "name": "stdout",
          "text": [
            "Welcome to the adventure game!\n",
            "==================================================\n",
            "You are a high school student who has been chosen to embark on a quest to save your town from a mysterious curse.\n",
            "You will face various challenges and choices along the way, and your decisions will determine the outcome of the story.\n",
            "==================================================\n",
            "What is your name? Mijin\n",
            "==================================================\n",
            "Nice to meet you, Mijin! Are you ready to begin?\n",
            "==================================================\n",
            "You wake up one morning to find that your town is covered in a thick fog.\n",
            "People are starting to get sick, and strange things are happening.\n",
            "You decide to investigate and find out that a curse has been cast upon the town.\n",
            "You meet a wise old sage who tells you that the only way to lift the curse is to find a magical artifact that is hidden in a dangerous dungeon.\n",
            "==================================================\n",
            "You have two options:\n",
            "Option 1: Search for clues in the town.\n",
            "Option 2: Go straight to the dungeon.\n",
            "==================================================\n",
            "Which option do you choose? (1 or 2) 1\n",
            "==================================================\n",
            "You spend the day talking to townspeople and searching for clues.\n",
            "You find a cryptic message that leads you to a hidden cave.\n",
            "==================================================\n",
            "You have two options:\n",
            "Option 1: Enter the cave.\n",
            "Option 2: Enter the dungeon.\n",
            "==================================================\n",
            "Which option do you choose? (1 or 2) 1\n",
            "==================================================\n",
            "==================================================\n",
            "You enter the cave and find the magical artifact!\n",
            "You bring it back to the town and the curse is lifted.\n",
            "Congratulations! You have saved the town!\n",
            "==================================================\n"
          ]
        }
      ]
    },
    {
      "cell_type": "code",
      "source": [
        "#@markdown Story game with listening (audio)\n",
        "from gtts import gTTS\n",
        "import IPython.display as ipd\n",
        "\n",
        "def play_audio(text):\n",
        "    language = 'en'\n",
        "    audio = gTTS(text=text, lang=language, slow=False)\n",
        "    audio.save(\"audio.mp3\")\n",
        "    ipd.display(ipd.Audio(\"audio.mp3\", autoplay=True))\n",
        "\n",
        "# Introduction\n",
        "play_audio(\"Welcome to the story game. You are walking home from school when you hear footsteps behind you. You look back and see a shady figure in the distance. What do you do?\")\n",
        "ipd.clear_output(wait=True)\n",
        "input(\"Press Enter to continue...\")\n",
        "\n",
        "# Stage 1\n",
        "play_audio(\"You decide to run. Do you run towards the park or towards the busy street?\")\n",
        "ipd.clear_output(wait=True)\n",
        "choice = input(\"Enter 1 to run towards the park, or 2 to run towards the busy street: \")\n",
        "if choice == \"1\":\n",
        "    play_audio(\"You run towards the park and manage to lose the shady figure. You continue walking home and make it back safely.\")\n",
        "elif choice == \"2\":\n",
        "    play_audio(\"You run towards the busy street, hoping to find someone to help you. As you get closer, you realize that the figure is a police officer. You stop and explain what happened, and the officer escorts you home safely.\")\n",
        "ipd.clear_output(wait=True)\n",
        "input(\"Press Enter to continue...\")\n",
        "\n",
        "# Stage 2\n",
        "play_audio(\"You arrive home and find that your front door is slightly open. Do you go inside or call the police?\")\n",
        "ipd.clear_output(wait=True)\n",
        "choice = input(\"Enter 1 to go inside, or 2 to call the police: \")\n",
        "if choice == \"1\":\n",
        "    play_audio(\"You cautiously enter your home and find that everything is as you left it. You breathe a sigh of relief and go about your evening.\")\n",
        "elif choice == \"2\":\n",
        "    play_audio(\"You call the police and they arrive shortly after. They search your home and find no one inside. You spend the night at a friend's house and return home the next day.\")\n",
        "ipd.clear_output(wait=True)\n",
        "input(\"Press Enter to continue...\")\n",
        "\n",
        "# Conclusion\n",
        "play_audio(\"Good choice! you have successfully made it home safely. Thanks for playing!\")\n",
        "ipd.clear_output(wait=True)\n"
      ],
      "metadata": {
        "cellView": "form",
        "id": "mx_BDEl-TqLe"
      },
      "execution_count": null,
      "outputs": []
    },
    {
      "cell_type": "markdown",
      "source": [
        "---\n",
        "# 📙Concepts and elements to cover for our goal:\n",
        "\n",
        "0. Importing modules: Explain how to import a module (like random) and use its functions (like random.shuffle()).\n",
        "\n",
        "1. Python basics: Basic data types (strings, integers, lists, dictionaries), variables, and basic input/output functions (like print() and input()).\n",
        "\n",
        "2. String manipulation: Cover string methods like .strip() and .lower().\n",
        "3. Control structures: Introduce for loops, while loops, and conditional statements (if, elif, else).\n",
        "\n",
        "4. Functions: Explain how to define and use functions, including function parameters. \n",
        "\n",
        "5. F-strings: Introduce f-strings (formatted string literals) and how to embed expressions inside string literals using curly braces {}.\n",
        "---"
      ],
      "metadata": {
        "id": "2VMRdKbJwOsk"
      }
    },
    {
      "cell_type": "markdown",
      "source": [
        "# [0] Importing modules\n",
        "\n",
        "1. **function, (class), module, package, and library**\n",
        "\n",
        "> (class) > functions\n",
        "\n",
        "\n",
        "2. Let's use the analogy of a toolbox: \n",
        "\n",
        "+ **a module** is a single tool, (e.g., random) \n",
        "+ **a package** is a toolbox containing multiple tools (e.g., gTTS)\n",
        "+ **a library** is a set of toolboxes designed for a specific purpose. (e.g., nltk - Natural Language Tool Kit) _>> Next time_"
      ],
      "metadata": {
        "id": "wgZEzhkQwzc3"
      }
    },
    {
      "cell_type": "markdown",
      "source": [
        "##A. 'gTTS' package"
      ],
      "metadata": {
        "id": "298wKG9q7-rN"
      }
    },
    {
      "cell_type": "code",
      "source": [
        "!pip install gtts\n",
        "!pip install IPython\n",
        "from gtts import gTTS\n",
        "from IPython.display import Audio, display"
      ],
      "metadata": {
        "id": "YLCRqNbW8E9J",
        "outputId": "9fc193d9-6a68-4ae6-bcd2-eff178054f8c",
        "colab": {
          "base_uri": "https://localhost:8080/"
        }
      },
      "execution_count": 6,
      "outputs": [
        {
          "output_type": "stream",
          "name": "stdout",
          "text": [
            "Looking in indexes: https://pypi.org/simple, https://us-python.pkg.dev/colab-wheels/public/simple/\n",
            "Requirement already satisfied: gtts in /usr/local/lib/python3.9/dist-packages (2.3.1)\n",
            "Requirement already satisfied: requests<3,>=2.27 in /usr/local/lib/python3.9/dist-packages (from gtts) (2.27.1)\n",
            "Requirement already satisfied: click<8.2,>=7.1 in /usr/local/lib/python3.9/dist-packages (from gtts) (8.1.3)\n",
            "Requirement already satisfied: charset-normalizer~=2.0.0 in /usr/local/lib/python3.9/dist-packages (from requests<3,>=2.27->gtts) (2.0.12)\n",
            "Requirement already satisfied: certifi>=2017.4.17 in /usr/local/lib/python3.9/dist-packages (from requests<3,>=2.27->gtts) (2022.12.7)\n",
            "Requirement already satisfied: idna<4,>=2.5 in /usr/local/lib/python3.9/dist-packages (from requests<3,>=2.27->gtts) (3.4)\n",
            "Requirement already satisfied: urllib3<1.27,>=1.21.1 in /usr/local/lib/python3.9/dist-packages (from requests<3,>=2.27->gtts) (1.26.15)\n",
            "Looking in indexes: https://pypi.org/simple, https://us-python.pkg.dev/colab-wheels/public/simple/\n",
            "Requirement already satisfied: IPython in /usr/local/lib/python3.9/dist-packages (7.34.0)\n",
            "Requirement already satisfied: jedi>=0.16 in /usr/local/lib/python3.9/dist-packages (from IPython) (0.18.2)\n",
            "Requirement already satisfied: prompt-toolkit!=3.0.0,!=3.0.1,<3.1.0,>=2.0.0 in /usr/local/lib/python3.9/dist-packages (from IPython) (3.0.38)\n",
            "Requirement already satisfied: pickleshare in /usr/local/lib/python3.9/dist-packages (from IPython) (0.7.5)\n",
            "Requirement already satisfied: pygments in /usr/local/lib/python3.9/dist-packages (from IPython) (2.14.0)\n",
            "Requirement already satisfied: decorator in /usr/local/lib/python3.9/dist-packages (from IPython) (4.4.2)\n",
            "Requirement already satisfied: backcall in /usr/local/lib/python3.9/dist-packages (from IPython) (0.2.0)\n",
            "Requirement already satisfied: matplotlib-inline in /usr/local/lib/python3.9/dist-packages (from IPython) (0.1.6)\n",
            "Requirement already satisfied: traitlets>=4.2 in /usr/local/lib/python3.9/dist-packages (from IPython) (5.7.1)\n",
            "Requirement already satisfied: pexpect>4.3 in /usr/local/lib/python3.9/dist-packages (from IPython) (4.8.0)\n",
            "Requirement already satisfied: setuptools>=18.5 in /usr/local/lib/python3.9/dist-packages (from IPython) (67.6.1)\n",
            "Requirement already satisfied: parso<0.9.0,>=0.8.0 in /usr/local/lib/python3.9/dist-packages (from jedi>=0.16->IPython) (0.8.3)\n",
            "Requirement already satisfied: ptyprocess>=0.5 in /usr/local/lib/python3.9/dist-packages (from pexpect>4.3->IPython) (0.7.0)\n",
            "Requirement already satisfied: wcwidth in /usr/local/lib/python3.9/dist-packages (from prompt-toolkit!=3.0.0,!=3.0.1,<3.1.0,>=2.0.0->IPython) (0.2.6)\n"
          ]
        }
      ]
    },
    {
      "cell_type": "code",
      "source": [
        "#@markdown etts(), ktts()\n",
        "def etts(text):\n",
        "  text_to_say = text\n",
        "\n",
        "  gtts_object = gTTS(text = text_to_say,\n",
        "                     lang = \"en\",\n",
        "                    slow = False)\n",
        "  \n",
        "  gtts_object.save(\"E-audio.mp3\")\n",
        "  return Audio(\"E-audio.mp3\")\n",
        "\n",
        "def ktts(text):\n",
        "  text_to_say = text\n",
        "\n",
        "  gtts_object = gTTS(text = text_to_say,\n",
        "                     lang = \"ko\",\n",
        "                    slow = False)\n",
        "  \n",
        "  gtts_object.save(\"K-audio.mp3\")\n",
        "  return Audio(\"K-audio.mp3\")"
      ],
      "metadata": {
        "cellView": "form",
        "id": "bYDfENzGRUFb"
      },
      "execution_count": 7,
      "outputs": []
    },
    {
      "cell_type": "markdown",
      "source": [
        "## B. 'random' module\n",
        "\n",
        "[Random Picker App using 'random'](https://github.com/MK316/Spring2023/blob/main/RandomPickerS23.ipynb)"
      ],
      "metadata": {
        "id": "vSFe_Umb68o9"
      }
    },
    {
      "cell_type": "code",
      "source": [
        "import random"
      ],
      "metadata": {
        "id": "t8tYICF_1Yx8"
      },
      "execution_count": 8,
      "outputs": []
    },
    {
      "cell_type": "markdown",
      "source": [
        "Return a number between 3 and 9 (both included):"
      ],
      "metadata": {
        "id": "RlWQ5dXark-r"
      }
    },
    {
      "cell_type": "code",
      "source": [
        "random.randint(1, 10) #random.randint(x,y)는 함수이므로 문법대로 사용해야 함."
      ],
      "metadata": {
        "colab": {
          "base_uri": "https://localhost:8080/"
        },
        "id": "sMf1Ow7W11EZ",
        "outputId": "33fe7fe4-6867-4f71-b5fe-70cbbb48d7c1"
      },
      "execution_count": 12,
      "outputs": [
        {
          "output_type": "execute_result",
          "data": {
            "text/plain": [
              "5"
            ]
          },
          "metadata": {},
          "execution_count": 12
        }
      ]
    },
    {
      "cell_type": "code",
      "source": [
        "a1 = random.randint(1, 10)\n",
        "a1*10  #변수를 이용하면 결과값을 이용한 다른 연산이나 작업이 가능하다."
      ],
      "metadata": {
        "colab": {
          "base_uri": "https://localhost:8080/"
        },
        "id": "WUVN9-Rs825s",
        "outputId": "6e83869d-df61-428b-b91a-64db35bb7089"
      },
      "execution_count": null,
      "outputs": [
        {
          "output_type": "execute_result",
          "data": {
            "text/plain": [
              "10"
            ]
          },
          "metadata": {},
          "execution_count": 18
        }
      ]
    },
    {
      "cell_type": "markdown",
      "source": [
        "# [1] Python basics: \n",
        "\n",
        "+ Basic data types (strings, integers, lists, dictionaries), \n",
        "+ variables, \n",
        "+ basic input/output functions (like print() and input()).\n",
        "\n"
      ],
      "metadata": {
        "id": "_vTm-kXl8qa_"
      }
    },
    {
      "cell_type": "markdown",
      "source": [
        "## [1-1] Basic data types"
      ],
      "metadata": {
        "id": "qaQ0_hkoENRX"
      }
    },
    {
      "cell_type": "markdown",
      "source": [
        "### A. strings"
      ],
      "metadata": {
        "id": "HB86s1k990Hh"
      }
    },
    {
      "cell_type": "code",
      "source": [
        "a2 = \"Welcome\"\n",
        "a3 = \"2023\""
      ],
      "metadata": {
        "id": "L_OImwSL94Kr"
      },
      "execution_count": null,
      "outputs": []
    },
    {
      "cell_type": "markdown",
      "source": [
        "☺️ DIY: How to get \"Welcome, 2023!\""
      ],
      "metadata": {
        "id": "wkYUBwu1-IvG"
      }
    },
    {
      "cell_type": "code",
      "source": [],
      "metadata": {
        "id": "XZ2LHJcl9_u4",
        "outputId": "f6b592bd-8a7f-4b62-e14f-f97e80cdece8",
        "colab": {
          "base_uri": "https://localhost:8080/",
          "height": 35
        }
      },
      "execution_count": null,
      "outputs": [
        {
          "output_type": "execute_result",
          "data": {
            "text/plain": [
              "'Welcome, 2023!'"
            ],
            "application/vnd.google.colaboratory.intrinsic+json": {
              "type": "string"
            }
          },
          "metadata": {},
          "execution_count": 20
        }
      ]
    },
    {
      "cell_type": "markdown",
      "source": [
        "☺️ DIY: Let a4 = \"화이팅\", and get '화이팅화이팅화이팅화이팅화이팅화이팅화이팅화이팅화이팅화이팅'(10번)"
      ],
      "metadata": {
        "id": "WNaHBznU-yEd"
      }
    },
    {
      "cell_type": "code",
      "source": [],
      "metadata": {
        "id": "0vfPcih3-xg4",
        "outputId": "be3891a2-8eba-4f0b-a31b-9e0ed445871a",
        "colab": {
          "base_uri": "https://localhost:8080/",
          "height": 35
        }
      },
      "execution_count": null,
      "outputs": [
        {
          "output_type": "execute_result",
          "data": {
            "text/plain": [
              "'화이팅화이팅화이팅화이팅화이팅화이팅화이팅화이팅화이팅화이팅'"
            ],
            "application/vnd.google.colaboratory.intrinsic+json": {
              "type": "string"
            }
          },
          "metadata": {},
          "execution_count": 21
        }
      ]
    },
    {
      "cell_type": "code",
      "source": [
        "type(a2). # data type of the variable a2"
      ],
      "metadata": {
        "colab": {
          "base_uri": "https://localhost:8080/"
        },
        "id": "1XroWNyGADZU",
        "outputId": "05a0322b-a18c-401f-8aa2-ec8a7975d907"
      },
      "execution_count": null,
      "outputs": [
        {
          "output_type": "execute_result",
          "data": {
            "text/plain": [
              "str"
            ]
          },
          "metadata": {},
          "execution_count": 22
        }
      ]
    },
    {
      "cell_type": "markdown",
      "source": [
        "###B. Integers, float"
      ],
      "metadata": {
        "id": "kpNXrqZ2_9I2"
      }
    },
    {
      "cell_type": "code",
      "source": [
        "x1 = 45; y1 = 0.5\n",
        "x1 * y1"
      ],
      "metadata": {
        "colab": {
          "base_uri": "https://localhost:8080/"
        },
        "id": "CEs2BHNbAB1Q",
        "outputId": "e63af813-d7ca-422b-91d2-75a50ef4564e"
      },
      "execution_count": null,
      "outputs": [
        {
          "output_type": "execute_result",
          "data": {
            "text/plain": [
              "22.5"
            ]
          },
          "metadata": {},
          "execution_count": 23
        }
      ]
    },
    {
      "cell_type": "code",
      "source": [],
      "metadata": {
        "id": "2WarI3IQsRJX",
        "outputId": "8304e3e2-9753-45f0-adb6-b2da469a304a",
        "colab": {
          "base_uri": "https://localhost:8080/"
        }
      },
      "execution_count": null,
      "outputs": [
        {
          "output_type": "execute_result",
          "data": {
            "text/plain": [
              "float"
            ]
          },
          "metadata": {},
          "execution_count": 24
        }
      ]
    },
    {
      "cell_type": "markdown",
      "source": [
        "### C. List datatype"
      ],
      "metadata": {
        "id": "S7PJcJFkBO46"
      }
    },
    {
      "cell_type": "code",
      "source": [
        "x2 = [1,2,3]\n",
        "x2"
      ],
      "metadata": {
        "colab": {
          "base_uri": "https://localhost:8080/"
        },
        "id": "LjSEH6lABR98",
        "outputId": "eb284b7f-40ef-48c5-ea6f-926543a1ee7b"
      },
      "execution_count": null,
      "outputs": [
        {
          "output_type": "execute_result",
          "data": {
            "text/plain": [
              "[1, 2, 3]"
            ]
          },
          "metadata": {},
          "execution_count": 26
        }
      ]
    },
    {
      "cell_type": "markdown",
      "source": [
        "x2[index]: Python index starts from 0"
      ],
      "metadata": {
        "id": "xcPyj0Fesdiu"
      }
    },
    {
      "cell_type": "code",
      "source": [
        "x2[0]"
      ],
      "metadata": {
        "id": "VGWl1av6BYGu"
      },
      "execution_count": null,
      "outputs": []
    },
    {
      "cell_type": "code",
      "source": [
        "# range(x,y)\n",
        "x3 = range(1,10)\n",
        "list(x3)  #list(), range(1,10)"
      ],
      "metadata": {
        "colab": {
          "base_uri": "https://localhost:8080/"
        },
        "id": "WNmjoCQ1ANr4",
        "outputId": "9e1cf838-bd7f-47f5-def6-731599ef24a5"
      },
      "execution_count": null,
      "outputs": [
        {
          "output_type": "execute_result",
          "data": {
            "text/plain": [
              "[1, 2, 3, 4, 5, 6, 7, 8, 9]"
            ]
          },
          "metadata": {},
          "execution_count": 28
        }
      ]
    },
    {
      "cell_type": "code",
      "source": [
        "x4 = \"John\"\n",
        "list(x4)"
      ],
      "metadata": {
        "colab": {
          "base_uri": "https://localhost:8080/"
        },
        "id": "amRP-ytuBlO6",
        "outputId": "a8eeef49-a6aa-4452-f9e2-d933278c0bdc"
      },
      "execution_count": null,
      "outputs": [
        {
          "output_type": "execute_result",
          "data": {
            "text/plain": [
              "['J', 'o', 'h', 'n']"
            ]
          },
          "metadata": {},
          "execution_count": 29
        }
      ]
    },
    {
      "cell_type": "markdown",
      "source": [
        "###D. Dictionary datatype: {'key':'value'}\n",
        "\n",
        "In Python, a dictionary is a built-in data type that represents a collection of key-value pairs. Each key-value pair in a dictionary is separated by a colon (:), and each pair is separated by a comma. "
      ],
      "metadata": {
        "id": "ZoyOSN_QCCdO"
      }
    },
    {
      "cell_type": "code",
      "source": [
        "mydict = {\"API\":\"Application Programming Interface\", \"GPT\":\"Generative Pretrained Transformer\"}\n",
        "mydict['API']"
      ],
      "metadata": {
        "colab": {
          "base_uri": "https://localhost:8080/",
          "height": 35
        },
        "id": "PdRkfL3JBMWK",
        "outputId": "0e165aee-8079-4359-c38e-64e33c14c9ac"
      },
      "execution_count": null,
      "outputs": [
        {
          "output_type": "execute_result",
          "data": {
            "text/plain": [
              "'Application Programming Interface'"
            ],
            "application/vnd.google.colaboratory.intrinsic+json": {
              "type": "string"
            }
          },
          "metadata": {},
          "execution_count": 30
        }
      ]
    },
    {
      "cell_type": "code",
      "source": [
        "mydict['GPT']"
      ],
      "metadata": {
        "id": "muVfPouBs47b",
        "outputId": "1d08be3c-9e45-4a57-c0e4-1d7ff7368986",
        "colab": {
          "base_uri": "https://localhost:8080/",
          "height": 35
        }
      },
      "execution_count": null,
      "outputs": [
        {
          "output_type": "execute_result",
          "data": {
            "text/plain": [
              "'Generative Pretrained Transformer'"
            ],
            "application/vnd.google.colaboratory.intrinsic+json": {
              "type": "string"
            }
          },
          "metadata": {},
          "execution_count": 31
        }
      ]
    },
    {
      "cell_type": "code",
      "source": [
        "class_size = {\"Class A\": 25, \"Class B\": 30, \"Class C\": 32}\n",
        "class_size['Class C']"
      ],
      "metadata": {
        "colab": {
          "base_uri": "https://localhost:8080/"
        },
        "id": "WBs-NrEJDQRC",
        "outputId": "6c9a6b9f-6471-4424-a133-d47bb0d08f8c"
      },
      "execution_count": null,
      "outputs": [
        {
          "output_type": "execute_result",
          "data": {
            "text/plain": [
              "32"
            ]
          },
          "metadata": {},
          "execution_count": 32
        }
      ]
    },
    {
      "cell_type": "markdown",
      "source": [
        "## [1-2] Variables"
      ],
      "metadata": {
        "id": "0m_ux_SoEUos"
      }
    },
    {
      "cell_type": "markdown",
      "source": [
        "## [1-3] input/output functions"
      ],
      "metadata": {
        "id": "YUasz63dEYAX"
      }
    },
    {
      "cell_type": "code",
      "source": [
        "mynumber = 2\n",
        "mynumber"
      ],
      "metadata": {
        "colab": {
          "base_uri": "https://localhost:8080/"
        },
        "id": "BSp7TWkeEfmz",
        "outputId": "3bcd84d2-c721-4bc7-da68-a245706b8b5c"
      },
      "execution_count": null,
      "outputs": [
        {
          "output_type": "execute_result",
          "data": {
            "text/plain": [
              "2"
            ]
          },
          "metadata": {},
          "execution_count": 87
        }
      ]
    },
    {
      "cell_type": "code",
      "source": [
        "yournumber = input()  # In Python, input() is a built-in function that allows you to get user input from the keyboard. \n",
        "yournumber"
      ],
      "metadata": {
        "colab": {
          "base_uri": "https://localhost:8080/",
          "height": 53
        },
        "id": "6LZudH_0En_w",
        "outputId": "783d5cc3-75a8-465a-963e-b294e0816f0a"
      },
      "execution_count": null,
      "outputs": [
        {
          "name": "stdout",
          "output_type": "stream",
          "text": [
            "4\n"
          ]
        },
        {
          "output_type": "execute_result",
          "data": {
            "text/plain": [
              "'4'"
            ],
            "application/vnd.google.colaboratory.intrinsic+json": {
              "type": "string"
            }
          },
          "metadata": {},
          "execution_count": 33
        }
      ]
    },
    {
      "cell_type": "markdown",
      "source": [
        "☺️ After running the code below, can you tell what the resulting output means?"
      ],
      "metadata": {
        "id": "-Z1mQqzlH4k5"
      }
    },
    {
      "cell_type": "code",
      "source": [
        "yournumber*5"
      ],
      "metadata": {
        "colab": {
          "base_uri": "https://localhost:8080/",
          "height": 35
        },
        "id": "5cGgSs3qHxG_",
        "outputId": "61f4269a-ed03-4cae-f717-7f70b0c34f76"
      },
      "execution_count": null,
      "outputs": [
        {
          "output_type": "execute_result",
          "data": {
            "text/plain": [
              "'44444'"
            ],
            "application/vnd.google.colaboratory.intrinsic+json": {
              "type": "string"
            }
          },
          "metadata": {},
          "execution_count": 34
        }
      ]
    },
    {
      "cell_type": "code",
      "source": [
        "type(yournumber)"
      ],
      "metadata": {
        "colab": {
          "base_uri": "https://localhost:8080/"
        },
        "id": "664rKEalISSY",
        "outputId": "5314bd92-1d93-4d40-d399-b18d7d3b8930"
      },
      "execution_count": null,
      "outputs": [
        {
          "output_type": "execute_result",
          "data": {
            "text/plain": [
              "str"
            ]
          },
          "metadata": {},
          "execution_count": 35
        }
      ]
    },
    {
      "cell_type": "code",
      "source": [
        "yournumber = int(yournumber) # changing the type of the value to integer\n",
        "type(yournumber)"
      ],
      "metadata": {
        "colab": {
          "base_uri": "https://localhost:8080/"
        },
        "id": "u_ocEyoAIVC4",
        "outputId": "cae55304-aabb-4b25-bf49-c0c051815f76"
      },
      "execution_count": null,
      "outputs": [
        {
          "output_type": "execute_result",
          "data": {
            "text/plain": [
              "int"
            ]
          },
          "metadata": {},
          "execution_count": 36
        }
      ]
    },
    {
      "cell_type": "markdown",
      "source": [
        "Getting output:"
      ],
      "metadata": {
        "id": "Z9Kzd8ZW7Bri"
      }
    },
    {
      "cell_type": "code",
      "source": [
        "# print() 함수 배우기\n",
        "print(\"대한민국\")\n",
        "\n",
        "a2 = \"화이팅!\"  # a1: variable(변수)\n",
        "print(a2)\n",
        "print(a2*10)\n",
        "print(\"화이팅 10번 합시다: \", a2*10)\n",
        "a2"
      ],
      "metadata": {
        "id": "aQXDo7u-4-18",
        "outputId": "d02c1b36-7980-4293-8168-c3d350b08205",
        "colab": {
          "base_uri": "https://localhost:8080/",
          "height": 105
        }
      },
      "execution_count": null,
      "outputs": [
        {
          "output_type": "stream",
          "name": "stdout",
          "text": [
            "대한민국\n",
            "화이팅!\n",
            "화이팅!화이팅!화이팅!화이팅!화이팅!화이팅!화이팅!화이팅!화이팅!화이팅!\n",
            "화이팅 10번 합시다:  화이팅!화이팅!화이팅!화이팅!화이팅!화이팅!화이팅!화이팅!화이팅!화이팅!\n"
          ]
        },
        {
          "output_type": "execute_result",
          "data": {
            "text/plain": [
              "'화이팅!'"
            ],
            "application/vnd.google.colaboratory.intrinsic+json": {
              "type": "string"
            }
          },
          "metadata": {},
          "execution_count": 37
        }
      ]
    },
    {
      "cell_type": "code",
      "source": [
        "print(a2)\n",
        "print(\"=\"*30)\n",
        "a1=random.randint(1,10)\n",
        "print(\"Random integer between 1 and 10:\", a1)"
      ],
      "metadata": {
        "colab": {
          "base_uri": "https://localhost:8080/"
        },
        "id": "0jdQu65F2ZWw",
        "outputId": "3a5d1c38-1e5a-4df4-8b8a-e7d3b08ce48b"
      },
      "execution_count": null,
      "outputs": [
        {
          "output_type": "stream",
          "name": "stdout",
          "text": [
            "화이팅!\n",
            "==============================\n",
            "Random integer between 1 and 10: 7\n"
          ]
        }
      ]
    },
    {
      "cell_type": "markdown",
      "source": [
        "☺️DIY: \n",
        "**Q: John and Mary have been together for many days. Ask Mary how many days it has been since she met John. Then you tell Mary how many hours it has been since she met John.**\n",
        "\n",
        "1. Set the variable 'day' to 24\n",
        "2. Set the variable 'num_day' for the input from the user. Get a number (number of days) from the user using input() function\n",
        "2. Calculate days to hours: set the variable 'hours' to the final result."
      ],
      "metadata": {
        "id": "cvkWAvetFtSP"
      }
    },
    {
      "cell_type": "code",
      "source": [
        "day = \n",
        "num_day = \n",
        "hours = \n",
        "print(\"The total hours passed since Mary met John are: \", hours, \"hours.\")"
      ],
      "metadata": {
        "id": "Fdezo9WD1zju",
        "outputId": "174b66de-637f-420b-f218-3dbcf86e8f5b",
        "colab": {
          "base_uri": "https://localhost:8080/"
        }
      },
      "execution_count": null,
      "outputs": [
        {
          "output_type": "stream",
          "name": "stdout",
          "text": [
            "How many days? 23\n",
            "The total hours passed since Mary met John are:  552 hours.\n"
          ]
        }
      ]
    },
    {
      "cell_type": "markdown",
      "source": [
        "#[2] String manipulation: strip() and .lower().\n",
        "\n"
      ],
      "metadata": {
        "id": "zzkVAfU61HDk"
      }
    },
    {
      "cell_type": "markdown",
      "source": [
        "### **data.strip()**\n",
        "\n",
        "+ In Python, strip() is a built-in string method that returns a copy of the string with leading and trailing characters removed. \n",
        "+ By default, strip() removes whitespace characters such as spaces, tabs, and newlines from the beginning and end of the string."
      ],
      "metadata": {
        "id": "sSi_PvE5LTeC"
      }
    },
    {
      "cell_type": "code",
      "source": [
        "w1 = \" Mary is friendly. \"\n",
        "w1"
      ],
      "metadata": {
        "colab": {
          "base_uri": "https://localhost:8080/",
          "height": 35
        },
        "id": "IUtU-qG81XIt",
        "outputId": "e220311b-615a-4482-fcf3-989e2bcf0a26"
      },
      "execution_count": null,
      "outputs": [
        {
          "output_type": "execute_result",
          "data": {
            "text/plain": [
              "' Mary is friendly. '"
            ],
            "application/vnd.google.colaboratory.intrinsic+json": {
              "type": "string"
            }
          },
          "metadata": {},
          "execution_count": 46
        }
      ]
    },
    {
      "cell_type": "code",
      "source": [
        "w1.strip()"
      ],
      "metadata": {
        "colab": {
          "base_uri": "https://localhost:8080/",
          "height": 35
        },
        "id": "ZAhdPbqVKr6e",
        "outputId": "cd233fa9-fd66-4f89-da29-02e5f8e8ddf7"
      },
      "execution_count": null,
      "outputs": [
        {
          "output_type": "execute_result",
          "data": {
            "text/plain": [
              "'Mary is friendly.'"
            ],
            "application/vnd.google.colaboratory.intrinsic+json": {
              "type": "string"
            }
          },
          "metadata": {},
          "execution_count": 47
        }
      ]
    },
    {
      "cell_type": "markdown",
      "source": [
        "### **data.split()**"
      ],
      "metadata": {
        "id": "JGPdtmu8MFgv"
      }
    },
    {
      "cell_type": "code",
      "source": [
        "w1 = \"Mary is friendly.\"\n",
        "w1.split()"
      ],
      "metadata": {
        "colab": {
          "base_uri": "https://localhost:8080/"
        },
        "id": "xbF1sJB9MIpw",
        "outputId": "b9175d5c-0146-44ee-a8dc-9e11d71cdbd9"
      },
      "execution_count": null,
      "outputs": [
        {
          "output_type": "execute_result",
          "data": {
            "text/plain": [
              "['Mary', 'is', 'friendly.']"
            ]
          },
          "metadata": {},
          "execution_count": 48
        }
      ]
    },
    {
      "cell_type": "code",
      "source": [
        "w2 = \"out-of-date\"\n",
        "w2.split('-')"
      ],
      "metadata": {
        "colab": {
          "base_uri": "https://localhost:8080/"
        },
        "id": "IudKgTjkMVQP",
        "outputId": "fffcbccf-0217-466c-bcc2-d35131bd60c7"
      },
      "execution_count": null,
      "outputs": [
        {
          "output_type": "execute_result",
          "data": {
            "text/plain": [
              "['out', 'of', 'date']"
            ]
          },
          "metadata": {},
          "execution_count": 49
        }
      ]
    },
    {
      "cell_type": "code",
      "source": [
        "w1 = \"Mary\"\n",
        "w2 = \"is\"\n",
        "w3 = \"friendly\""
      ],
      "metadata": {
        "id": "tGBOKKKtLvj7"
      },
      "execution_count": null,
      "outputs": []
    },
    {
      "cell_type": "code",
      "source": [
        "wordlist = [w1, w2, w3]\n",
        "wordlist"
      ],
      "metadata": {
        "colab": {
          "base_uri": "https://localhost:8080/"
        },
        "id": "c11AXGr0V_a4",
        "outputId": "f5a0b40c-c834-4888-c9fa-b243ac79243e"
      },
      "execution_count": null,
      "outputs": [
        {
          "output_type": "execute_result",
          "data": {
            "text/plain": [
              "['Mary', 'is', 'friendly']"
            ]
          },
          "metadata": {},
          "execution_count": 51
        }
      ]
    },
    {
      "cell_type": "markdown",
      "source": [
        "### **' '.join()**"
      ],
      "metadata": {
        "id": "Mb-LFWWPWn08"
      }
    },
    {
      "cell_type": "code",
      "source": [
        "' '.join(wordlist)"
      ],
      "metadata": {
        "colab": {
          "base_uri": "https://localhost:8080/",
          "height": 35
        },
        "id": "tZA7DsPPWGmA",
        "outputId": "90221f13-9bd2-40de-da6a-de32c074fb58"
      },
      "execution_count": null,
      "outputs": [
        {
          "output_type": "execute_result",
          "data": {
            "text/plain": [
              "'Mary is friendly'"
            ],
            "application/vnd.google.colaboratory.intrinsic+json": {
              "type": "string"
            }
          },
          "metadata": {},
          "execution_count": 52
        }
      ]
    },
    {
      "cell_type": "code",
      "source": [
        "'-'.join(wordlist)"
      ],
      "metadata": {
        "colab": {
          "base_uri": "https://localhost:8080/",
          "height": 35
        },
        "id": "EjLtWSL5WdYy",
        "outputId": "4ce99690-92b2-4ac7-b8c2-ee45569c21fe"
      },
      "execution_count": null,
      "outputs": [
        {
          "output_type": "execute_result",
          "data": {
            "text/plain": [
              "'Mary-is-friendly'"
            ],
            "application/vnd.google.colaboratory.intrinsic+json": {
              "type": "string"
            }
          },
          "metadata": {},
          "execution_count": 53
        }
      ]
    },
    {
      "cell_type": "markdown",
      "source": [
        "### **data.lower(), data.upper()**"
      ],
      "metadata": {
        "id": "PgCIMbbcL29X"
      }
    },
    {
      "cell_type": "code",
      "source": [
        "w1.lower()"
      ],
      "metadata": {
        "colab": {
          "base_uri": "https://localhost:8080/",
          "height": 35
        },
        "id": "JGqTVM22MuH0",
        "outputId": "118e59a5-ab1a-4271-98b6-5e38fd509488"
      },
      "execution_count": null,
      "outputs": [
        {
          "output_type": "execute_result",
          "data": {
            "text/plain": [
              "'mary'"
            ],
            "application/vnd.google.colaboratory.intrinsic+json": {
              "type": "string"
            }
          },
          "metadata": {},
          "execution_count": 54
        }
      ]
    },
    {
      "cell_type": "code",
      "source": [
        "w1.upper()"
      ],
      "metadata": {
        "colab": {
          "base_uri": "https://localhost:8080/",
          "height": 35
        },
        "id": "fP2lBss3Myhq",
        "outputId": "7b93479c-d868-4f9d-d120-456ed03398a4"
      },
      "execution_count": null,
      "outputs": [
        {
          "output_type": "execute_result",
          "data": {
            "text/plain": [
              "'MARY'"
            ],
            "application/vnd.google.colaboratory.intrinsic+json": {
              "type": "string"
            }
          },
          "metadata": {},
          "execution_count": 55
        }
      ]
    },
    {
      "cell_type": "markdown",
      "source": [
        "string index"
      ],
      "metadata": {
        "id": "yZJk2NtCM_oz"
      }
    },
    {
      "cell_type": "code",
      "source": [
        "len(w1) #number of string"
      ],
      "metadata": {
        "colab": {
          "base_uri": "https://localhost:8080/"
        },
        "id": "HmuiXLZSNGNa",
        "outputId": "a04863f4-d425-4cca-ae44-b0b8506c2910"
      },
      "execution_count": null,
      "outputs": [
        {
          "output_type": "execute_result",
          "data": {
            "text/plain": [
              "4"
            ]
          },
          "metadata": {},
          "execution_count": 56
        }
      ]
    },
    {
      "cell_type": "code",
      "source": [
        "w1[0] #1st string"
      ],
      "metadata": {
        "colab": {
          "base_uri": "https://localhost:8080/",
          "height": 35
        },
        "id": "xiyozLYxM6xk",
        "outputId": "b87c69f9-889e-4473-b142-33ef06d35790"
      },
      "execution_count": null,
      "outputs": [
        {
          "output_type": "execute_result",
          "data": {
            "text/plain": [
              "'M'"
            ],
            "application/vnd.google.colaboratory.intrinsic+json": {
              "type": "string"
            }
          },
          "metadata": {},
          "execution_count": 57
        }
      ]
    },
    {
      "cell_type": "code",
      "source": [
        "w1[-1]"
      ],
      "metadata": {
        "colab": {
          "base_uri": "https://localhost:8080/",
          "height": 35
        },
        "id": "AY_Ii7FhNeof",
        "outputId": "4cda0399-33ee-42f3-bf12-9f6aa11cd329"
      },
      "execution_count": null,
      "outputs": [
        {
          "output_type": "execute_result",
          "data": {
            "text/plain": [
              "'y'"
            ],
            "application/vnd.google.colaboratory.intrinsic+json": {
              "type": "string"
            }
          },
          "metadata": {},
          "execution_count": 58
        }
      ]
    },
    {
      "cell_type": "code",
      "source": [
        "w1[0:]"
      ],
      "metadata": {
        "id": "vhfF3iXwNijx"
      },
      "execution_count": null,
      "outputs": []
    },
    {
      "cell_type": "code",
      "source": [
        "w1[:]"
      ],
      "metadata": {
        "id": "pW4m0FoyNlf4"
      },
      "execution_count": null,
      "outputs": []
    },
    {
      "cell_type": "code",
      "source": [
        "w1[1:3]"
      ],
      "metadata": {
        "id": "tgp9ozDdNpwd"
      },
      "execution_count": null,
      "outputs": []
    },
    {
      "cell_type": "code",
      "source": [
        "w = \"mary\"\n",
        "w[0:-1]"
      ],
      "metadata": {
        "id": "0Su3TuHfPxwh"
      },
      "execution_count": null,
      "outputs": []
    },
    {
      "cell_type": "markdown",
      "source": [
        "☺️ DIY: Convert a statement to a yes-no question (e.g., Mary is smart. Tom is smiling. Jane is late.)"
      ],
      "metadata": {
        "id": "lGVkVdCLNMz0"
      }
    },
    {
      "cell_type": "code",
      "source": [
        "w1 = \"Mary\"; w2 = \"is\"; w3 = \"friendly.\""
      ],
      "metadata": {
        "id": "nz1VNUviNXaJ"
      },
      "execution_count": null,
      "outputs": []
    }
  ]
}